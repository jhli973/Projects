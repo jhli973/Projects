{
 "cells": [
  {
   "cell_type": "markdown",
   "metadata": {},
   "source": [
    "## Load packages"
   ]
  },
  {
   "cell_type": "code",
   "execution_count": 1,
   "metadata": {
    "collapsed": false
   },
   "outputs": [
    {
     "name": "stderr",
     "output_type": "stream",
     "text": [
      "Using TensorFlow backend.\n"
     ]
    }
   ],
   "source": [
    "import os\n",
    "import cv2\n",
    "import imutils\n",
    "import numpy as np\n",
    "from BuildModel import Model"
   ]
  },
  {
   "cell_type": "markdown",
   "metadata": {},
   "source": [
    "## Load model with the best accuracy"
   ]
  },
  {
   "cell_type": "code",
   "execution_count": null,
   "metadata": {
    "collapsed": false
   },
   "outputs": [
    {
     "name": "stdout",
     "output_type": "stream",
     "text": [
      "Model Loaded.\n"
     ]
    }
   ],
   "source": [
    "FILE_PATH = r'C:\\Users\\dbsnail\\ImageProject\\models\\ml_70_adam.h5'\n",
    "model = Model()\n",
    "model.load(FILE_PATH)"
   ]
  },
  {
   "cell_type": "markdown",
   "metadata": {
    "collapsed": true
   },
   "source": [
    "## Test New Images"
   ]
  },
  {
   "cell_type": "code",
   "execution_count": null,
   "metadata": {
    "collapsed": false
   },
   "outputs": [],
   "source": [
    "new_image_path = r'C:\\Users\\dbsnail\\ImageFolder\\test\\\\'\n",
    "resized_height = 80\n",
    "\n",
    "for file in os.listdir(new_image_path):\n",
    "    abs_path = os.path.abspath(os.path.join(new_image_path, file))\n",
    "    if abs_path.find('authorized') > 0:\n",
    "        label = 1\n",
    "    else:\n",
    "        label = 0\n",
    "    img = cv2.imread(abs_path)\n",
    "    resized_img = imutils.resize(img, height = resized_height)\n",
    "    print(\"True label:{}, Predicted label:{}\".format(label,model.predict(resized_img)[1]))"
   ]
  },
  {
   "cell_type": "markdown",
   "metadata": {
    "collapsed": true
   },
   "source": [
    "![Images](NewImage.png)"
   ]
  },
  {
   "cell_type": "code",
   "execution_count": null,
   "metadata": {
    "collapsed": true
   },
   "outputs": [],
   "source": [
    "FILE_PATH = r'C:\\Users\\dbsnail\\ImageProject\\models\\tune_ml_90_adam_adam.h5'\n",
    "model = Model()\n",
    "model.load(FILE_PATH)\n",
    "\n",
    "new_image_path = r'C:\\Users\\dbsnail\\ImageFolder\\test\\\\'\n",
    "resized_height = 80\n",
    "\n",
    "for file in os.listdir(new_image_path):\n",
    "    abs_path = os.path.abspath(os.path.join(new_image_path, file))\n",
    "    if abs_path.find('authorized') > 0:\n",
    "        label = 1\n",
    "    else:\n",
    "        label = 0\n",
    "    img = cv2.imread(abs_path)\n",
    "    resized_img = imutils.resize(img, height = resized_height)\n",
    "    print(\"True label:{}, Predicted label:{}\".format(label,model.predict(resized_img)[1]))"
   ]
  }
 ],
 "metadata": {
  "anaconda-cloud": {},
  "kernelspec": {
   "display_name": "Python [conda env:py35]",
   "language": "python",
   "name": "conda-env-py35-py"
  },
  "language_info": {
   "codemirror_mode": {
    "name": "ipython",
    "version": 3
   },
   "file_extension": ".py",
   "mimetype": "text/x-python",
   "name": "python",
   "nbconvert_exporter": "python",
   "pygments_lexer": "ipython3",
   "version": "3.5.2"
  }
 },
 "nbformat": 4,
 "nbformat_minor": 1
}
