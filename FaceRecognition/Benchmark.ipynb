{
 "cells": [
  {
   "cell_type": "markdown",
   "metadata": {},
   "source": [
    "## Load Data"
   ]
  },
  {
   "cell_type": "code",
   "execution_count": 1,
   "metadata": {
    "collapsed": false
   },
   "outputs": [
    {
     "name": "stderr",
     "output_type": "stream",
     "text": [
      "Using TensorFlow backend.\n"
     ]
    }
   ],
   "source": [
    "from LoadSplitData import Process\n",
    "import numpy as np\n",
    "np.random.seed(0)"
   ]
  },
  {
   "cell_type": "code",
   "execution_count": 2,
   "metadata": {
    "collapsed": false
   },
   "outputs": [
    {
     "name": "stdout",
     "output_type": "stream",
     "text": [
      "Images shape (24076, 80, 80, 3), label shape (24076,), ratio of authorized data 0.4503655092208008\n",
      "X_train shape: (12639, 80, 80, 3)\n",
      "12639 train samples\n",
      "5418 valid samples\n",
      "6019 test samples\n"
     ]
    }
   ],
   "source": [
    "data = Process()\n",
    "data.split_data()"
   ]
  },
  {
   "cell_type": "markdown",
   "metadata": {},
   "source": [
    "## Train Benchmark Model"
   ]
  },
  {
   "cell_type": "code",
   "execution_count": 3,
   "metadata": {
    "collapsed": false
   },
   "outputs": [
    {
     "name": "stdout",
     "output_type": "stream",
     "text": [
      "____________________________________________________________________________________________________\n",
      "Layer (type)                     Output Shape          Param #     Connected to                     \n",
      "====================================================================================================\n",
      "convolution2d_1 (Convolution2D)  (None, 80, 80, 32)    896         convolution2d_input_1[0][0]      \n",
      "____________________________________________________________________________________________________\n",
      "maxpooling2d_1 (MaxPooling2D)    (None, 40, 40, 32)    0           convolution2d_1[0][0]            \n",
      "____________________________________________________________________________________________________\n",
      "dropout_1 (Dropout)              (None, 40, 40, 32)    0           maxpooling2d_1[0][0]             \n",
      "____________________________________________________________________________________________________\n",
      "flatten_1 (Flatten)              (None, 51200)         0           dropout_1[0][0]                  \n",
      "____________________________________________________________________________________________________\n",
      "dense_1 (Dense)                  (None, 2)             102402      flatten_1[0][0]                  \n",
      "____________________________________________________________________________________________________\n",
      "activation_1 (Activation)        (None, 2)             0           dense_1[0][0]                    \n",
      "====================================================================================================\n",
      "Total params: 103,298\n",
      "Trainable params: 103,298\n",
      "Non-trainable params: 0\n",
      "____________________________________________________________________________________________________\n",
      "Using real-time data augmentation.\n",
      "Epoch 1/30\n",
      "12639/12639 [==============================] - 25s - loss: 0.1448 - acc: 0.9445 - val_loss: 0.0602 - val_acc: 0.9819\n",
      "Epoch 2/30\n",
      "12639/12639 [==============================] - 23s - loss: 0.0510 - acc: 0.9835 - val_loss: 0.0282 - val_acc: 0.9934\n",
      "Epoch 3/30\n",
      "12639/12639 [==============================] - 23s - loss: 0.0400 - acc: 0.9877 - val_loss: 0.0259 - val_acc: 0.9930\n",
      "Model Saved.\n",
      "Test accuracy: 98.92008575931264\n"
     ]
    }
   ],
   "source": [
    "from Benchmark import Model\n",
    "\n",
    "FILE_PATH = r'C:\\Users\\dbsnail\\ImageProject\\models\\ml_benchmark.h5'\n",
    "batch_size = 40\n",
    "\n",
    "model = Model(batch_size)\n",
    "model.build_model(data)\n",
    "model.train(data)\n",
    "model.save(FILE_PATH)\n",
    "acc = model.evaluate(data)\n",
    "print(\"Test accuracy: {}\".format(acc))\n"
   ]
  },
  {
   "cell_type": "markdown",
   "metadata": {
    "collapsed": true
   },
   "source": [
    "## Predict New Image with Benchmark Model"
   ]
  },
  {
   "cell_type": "code",
   "execution_count": 4,
   "metadata": {
    "collapsed": false
   },
   "outputs": [
    {
     "name": "stdout",
     "output_type": "stream",
     "text": [
      "Model Loaded.\n",
      "True label:1, Predicted label:1, File name:authorized1.jpg\n",
      "True label:1, Predicted label:1, File name:authorized10.jpg\n",
      "True label:1, Predicted label:0, File name:authorized2.jpg\n",
      "True label:1, Predicted label:0, File name:authorized3.jpg\n",
      "True label:1, Predicted label:1, File name:authorized4.jpg\n",
      "True label:1, Predicted label:1, File name:authorized5.jpg\n",
      "True label:1, Predicted label:1, File name:authorized6.jpg\n",
      "True label:1, Predicted label:1, File name:authorized7.jpg\n",
      "True label:1, Predicted label:1, File name:authorized8.jpg\n",
      "True label:1, Predicted label:1, File name:authorized9.jpg\n",
      "True label:0, Predicted label:0, File name:unauthorized1.jpg\n",
      "True label:0, Predicted label:0, File name:unauthorized10.jpg\n",
      "True label:0, Predicted label:0, File name:unauthorized2.jpg\n",
      "True label:0, Predicted label:0, File name:unauthorized3.jpg\n",
      "True label:0, Predicted label:0, File name:unauthorized4.jpg\n",
      "True label:0, Predicted label:0, File name:unauthorized5.jpg\n",
      "True label:0, Predicted label:0, File name:unauthorized6.jpg\n",
      "True label:0, Predicted label:0, File name:unauthorized7.jpg\n",
      "True label:0, Predicted label:0, File name:unauthorized8.jpg\n",
      "True label:0, Predicted label:0, File name:unauthorized9.jpg\n"
     ]
    }
   ],
   "source": [
    "import os\n",
    "import cv2\n",
    "import imutils\n",
    "\n",
    "FILE_PATH = r'C:\\Users\\dbsnail\\ImageProject\\models\\ml_benchmark.h5'\n",
    "model = Model()\n",
    "model.load(FILE_PATH)\n",
    "\n",
    "new_image_path = r'C:\\Users\\dbsnail\\ImageFolder\\test\\\\'\n",
    "resized_height = 80\n",
    "\n",
    "for file in os.listdir(new_image_path):\n",
    "    abs_path = os.path.abspath(os.path.join(new_image_path, file))\n",
    "    if abs_path.find('unauthorized') > 0:\n",
    "        label = 0\n",
    "    else:\n",
    "        label = 1\n",
    "    img = cv2.imread(abs_path)\n",
    "    resized_img = imutils.resize(img, height = resized_height)\n",
    "    pred_label = model.predict(resized_img)[1]\n",
    "    print(\"True label:{}, Predicted label:{}, File name:{}\".format(label,pred_label, file))"
   ]
  },
  {
   "cell_type": "code",
   "execution_count": null,
   "metadata": {
    "collapsed": true
   },
   "outputs": [],
   "source": []
  }
 ],
 "metadata": {
  "anaconda-cloud": {},
  "kernelspec": {
   "display_name": "Python [conda env:py35]",
   "language": "python",
   "name": "conda-env-py35-py"
  },
  "language_info": {
   "codemirror_mode": {
    "name": "ipython",
    "version": 3
   },
   "file_extension": ".py",
   "mimetype": "text/x-python",
   "name": "python",
   "nbconvert_exporter": "python",
   "pygments_lexer": "ipython3",
   "version": "3.5.2"
  }
 },
 "nbformat": 4,
 "nbformat_minor": 1
}
