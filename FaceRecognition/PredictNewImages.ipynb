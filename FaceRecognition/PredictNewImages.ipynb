{
 "cells": [
  {
   "cell_type": "markdown",
   "metadata": {},
   "source": [
    "## Load packages"
   ]
  },
  {
   "cell_type": "code",
   "execution_count": 1,
   "metadata": {
    "collapsed": false
   },
   "outputs": [
    {
     "name": "stderr",
     "output_type": "stream",
     "text": [
      "Using TensorFlow backend.\n"
     ]
    }
   ],
   "source": [
    "import os\n",
    "import cv2\n",
    "import imutils\n",
    "import numpy as np\n",
    "from BuildModel import Model"
   ]
  },
  {
   "cell_type": "markdown",
   "metadata": {
    "collapsed": true
   },
   "source": [
    "## Test New Images With the Best Model Evaluated with Accuracy"
   ]
  },
  {
   "cell_type": "code",
   "execution_count": 2,
   "metadata": {
    "collapsed": false
   },
   "outputs": [
    {
     "name": "stdout",
     "output_type": "stream",
     "text": [
      "Model Loaded.\n",
      "True label:1, Predicted label:1, File name:authorized1.jpg\n",
      "True label:1, Predicted label:1, File name:authorized10.jpg\n",
      "True label:1, Predicted label:1, File name:authorized2.jpg\n",
      "True label:1, Predicted label:1, File name:authorized3.jpg\n",
      "True label:1, Predicted label:1, File name:authorized4.jpg\n",
      "True label:1, Predicted label:1, File name:authorized5.jpg\n",
      "True label:1, Predicted label:1, File name:authorized6.jpg\n",
      "True label:1, Predicted label:1, File name:authorized7.jpg\n",
      "True label:1, Predicted label:1, File name:authorized8.jpg\n",
      "True label:1, Predicted label:1, File name:authorized9.jpg\n",
      "True label:0, Predicted label:0, File name:unauthorized1.jpg\n",
      "True label:0, Predicted label:0, File name:unauthorized10.jpg\n",
      "True label:0, Predicted label:0, File name:unauthorized2.jpg\n",
      "True label:0, Predicted label:0, File name:unauthorized3.jpg\n",
      "True label:0, Predicted label:0, File name:unauthorized4.jpg\n",
      "True label:0, Predicted label:0, File name:unauthorized5.jpg\n",
      "True label:0, Predicted label:0, File name:unauthorized6.jpg\n",
      "True label:0, Predicted label:0, File name:unauthorized7.jpg\n",
      "True label:0, Predicted label:0, File name:unauthorized8.jpg\n",
      "True label:0, Predicted label:0, File name:unauthorized9.jpg\n"
     ]
    }
   ],
   "source": [
    "FILE_PATH = r'C:\\Users\\dbsnail\\ImageProject\\models\\ml_70_adam.h5'\n",
    "model = Model()\n",
    "model.load(FILE_PATH)\n",
    "\n",
    "new_image_path = r'C:\\Users\\dbsnail\\ImageFolder\\test\\\\'\n",
    "resized_height = 80\n",
    "\n",
    "for file in os.listdir(new_image_path):\n",
    "    abs_path = os.path.abspath(os.path.join(new_image_path, file))\n",
    "    if abs_path.find('unauthorized') > 0:\n",
    "        label = 0\n",
    "    else:\n",
    "        label = 1\n",
    "    img = cv2.imread(abs_path)\n",
    "    resized_img = imutils.resize(img, height = resized_height)\n",
    "    pred_label = model.predict(resized_img)[1]\n",
    "    print(\"True label:{}, Predicted label:{}, File name:{}\".format(label,pred_label, file))"
   ]
  },
  {
   "cell_type": "markdown",
   "metadata": {
    "collapsed": true
   },
   "source": [
    "![Images](Figure4.png)"
   ]
  },
  {
   "cell_type": "markdown",
   "metadata": {},
   "source": [
    "## Test New Images With the Best Model Evaluated with fbeta_score"
   ]
  },
  {
   "cell_type": "code",
   "execution_count": 3,
   "metadata": {
    "collapsed": false
   },
   "outputs": [
    {
     "name": "stdout",
     "output_type": "stream",
     "text": [
      "Model Loaded.\n",
      "True label:1, Predicted label:1, File name:authorized1.jpg\n",
      "True label:1, Predicted label:1, File name:authorized10.jpg\n",
      "True label:1, Predicted label:1, File name:authorized2.jpg\n",
      "True label:1, Predicted label:0, File name:authorized3.jpg\n",
      "True label:1, Predicted label:1, File name:authorized4.jpg\n",
      "True label:1, Predicted label:1, File name:authorized5.jpg\n",
      "True label:1, Predicted label:1, File name:authorized6.jpg\n",
      "True label:1, Predicted label:1, File name:authorized7.jpg\n",
      "True label:1, Predicted label:0, File name:authorized8.jpg\n",
      "True label:1, Predicted label:1, File name:authorized9.jpg\n",
      "True label:0, Predicted label:0, File name:unauthorized1.jpg\n",
      "True label:0, Predicted label:0, File name:unauthorized10.jpg\n",
      "True label:0, Predicted label:0, File name:unauthorized2.jpg\n",
      "True label:0, Predicted label:0, File name:unauthorized3.jpg\n",
      "True label:0, Predicted label:0, File name:unauthorized4.jpg\n",
      "True label:0, Predicted label:0, File name:unauthorized5.jpg\n",
      "True label:0, Predicted label:0, File name:unauthorized6.jpg\n",
      "True label:0, Predicted label:0, File name:unauthorized7.jpg\n",
      "True label:0, Predicted label:0, File name:unauthorized8.jpg\n",
      "True label:0, Predicted label:0, File name:unauthorized9.jpg\n"
     ]
    }
   ],
   "source": [
    "FILE_PATH = r'C:\\Users\\dbsnail\\ImageProject\\models\\tune_ml_90_fbeta_score_adam.h5'\n",
    "model = Model()\n",
    "model.load(FILE_PATH)\n",
    "\n",
    "new_image_path = r'C:\\Users\\dbsnail\\ImageFolder\\test\\\\'\n",
    "resized_height = 80\n",
    "\n",
    "for file in os.listdir(new_image_path):\n",
    "    abs_path = os.path.abspath(os.path.join(new_image_path, file))\n",
    "    if abs_path.find('unauthorized') > 0:\n",
    "        label = 0\n",
    "    else:\n",
    "        label = 1\n",
    "    img = cv2.imread(abs_path)\n",
    "    resized_img = imutils.resize(img, height = resized_height)\n",
    "    pred_label = model.predict(resized_img)[1]\n",
    "    print(\"True label:{}, Predicted label:{}, File name:{}\".format(label,pred_label, file))"
   ]
  },
  {
   "cell_type": "code",
   "execution_count": null,
   "metadata": {
    "collapsed": true
   },
   "outputs": [],
   "source": []
  }
 ],
 "metadata": {
  "anaconda-cloud": {},
  "kernelspec": {
   "display_name": "Python [conda env:py35]",
   "language": "python",
   "name": "conda-env-py35-py"
  },
  "language_info": {
   "codemirror_mode": {
    "name": "ipython",
    "version": 3
   },
   "file_extension": ".py",
   "mimetype": "text/x-python",
   "name": "python",
   "nbconvert_exporter": "python",
   "pygments_lexer": "ipython3",
   "version": "3.5.2"
  }
 },
 "nbformat": 4,
 "nbformat_minor": 1
}
