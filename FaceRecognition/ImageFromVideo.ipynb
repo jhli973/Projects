{
 "cells": [
  {
   "cell_type": "code",
   "execution_count": 14,
   "metadata": {
    "collapsed": false
   },
   "outputs": [],
   "source": [
    "import cv2\n",
    "import os\n",
    "\n",
    "\n",
    "def get_image_from_video(video, out_put_path):\n",
    "    \n",
    "    cap = cv2.VideoCapture(video)\n",
    "    count = 0\n",
    "    print(cap.isOpened())\n",
    "    while cap.isOpened():\n",
    "        ret,image = cap.read()\n",
    "        if ret:\n",
    "            cv2.imwrite(os.path.join(output_path, \"%d.jpg\") % count, image)  # save frame as JPEG file\n",
    "            count += 1\n",
    "        else:\n",
    "            break\n",
    "        if cv2.waitKey(10) == 27:                     # exit if Escape is hit\n",
    "            break\n",
    "   \n",
    "\n",
    "    cap.release()\n",
    "    cv2.destroyAllWindows()\n",
    "    print(\"Total {} images were captured\".format(count))"
   ]
  },
  {
   "cell_type": "code",
   "execution_count": 19,
   "metadata": {
    "collapsed": false
   },
   "outputs": [
    {
     "name": "stdout",
     "output_type": "stream",
     "text": [
      "False\n",
      "Total 0 images were captured\n"
     ]
    }
   ],
   "source": [
    "video_name = 'BlueUmbrella.webm'  #Capture_1.avi'\n",
    "out_put_path = r\"C:\\Users\\dbsnail\\ImageFolder\\ImageFromVideo\"\n",
    "get_image_from_video('Capture_1.mp4',out_put_path)"
   ]
  },
  {
   "cell_type": "code",
   "execution_count": null,
   "metadata": {
    "collapsed": true
   },
   "outputs": [],
   "source": []
  },
  {
   "cell_type": "code",
   "execution_count": null,
   "metadata": {
    "collapsed": true
   },
   "outputs": [],
   "source": []
  }
 ],
 "metadata": {
  "anaconda-cloud": {},
  "kernelspec": {
   "display_name": "Python 3",
   "language": "python",
   "name": "python3"
  },
  "language_info": {
   "codemirror_mode": {
    "name": "ipython",
    "version": 3
   },
   "file_extension": ".py",
   "mimetype": "text/x-python",
   "name": "python",
   "nbconvert_exporter": "python",
   "pygments_lexer": "ipython3",
   "version": "3.6.0"
  }
 },
 "nbformat": 4,
 "nbformat_minor": 1
}
