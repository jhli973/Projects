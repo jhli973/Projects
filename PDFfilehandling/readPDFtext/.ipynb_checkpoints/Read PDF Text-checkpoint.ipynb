{
 "cells": [
  {
   "cell_type": "markdown",
   "metadata": {},
   "source": [
    "### This project use textract package, a powerful package which can read multiple format files. Please refer the [official web site](http://textract.readthedocs.io/en/latest/index.html) for the detailed information"
   ]
  },
  {
   "cell_type": "code",
   "execution_count": 2,
   "metadata": {
    "collapsed": false
   },
   "outputs": [],
   "source": [
    "import textract"
   ]
  },
  {
   "cell_type": "code",
   "execution_count": 6,
   "metadata": {
    "collapsed": false
   },
   "outputs": [],
   "source": [
    "text = textract.process('constitution.pdf')"
   ]
  },
  {
   "cell_type": "code",
   "execution_count": 7,
   "metadata": {
    "collapsed": false
   },
   "outputs": [
    {
     "data": {
      "text/plain": [
       "str"
      ]
     },
     "execution_count": 7,
     "metadata": {},
     "output_type": "execute_result"
    }
   ],
   "source": [
    "type(text)"
   ]
  },
  {
   "cell_type": "code",
   "execution_count": 8,
   "metadata": {
    "collapsed": false,
    "scrolled": true
   },
   "outputs": [
    {
     "data": {
      "text/plain": [
       "27973"
      ]
     },
     "execution_count": 8,
     "metadata": {},
     "output_type": "execute_result"
    }
   ],
   "source": [
    "len(text)"
   ]
  },
  {
   "cell_type": "code",
   "execution_count": 11,
   "metadata": {
    "collapsed": false
   },
   "outputs": [
    {
     "name": "stdout",
     "output_type": "stream",
     "text": [
      "THE UNITED STATES CONSTITUTION\r\n",
      "We the People of the United States, in Order to form a more perfect Union, establish Justice, insure\r\n",
      "domestic Tranquility, provide for the common defense, promote the general Welfare, and secure\r\n",
      "the Blessings of Liberty to ourselves and our Posterity, do ordain and establish this Constitution for\r\n",
      "the United States of America.\r\n",
      "Article. I.\r\n",
      "Section 1.\r\n",
      "All legislative Powers herein granted shall be vested in a Congress of the United States, which shall\r\n",
      "consist of a Senate and House of Representatives.\r\n",
      "Section. 2.\r\n",
      "Clause 1: The House of Representatives shall be composed of Members chosen every second Year\r\n",
      "by the People of the several States, and the Electors in each State shall have the Qualifications\r\n",
      "requisite for Electors of the most numerous Branch of the State Legislature.\r\n",
      "Clause 2: No Person shall be a Representative who shall not have attained to the Age of 25 Years,\r\n",
      "and been seven Years a Citizen of the United States, and who shall not, wh\n"
     ]
    }
   ],
   "source": [
    "print text[:1000]"
   ]
  },
  {
   "cell_type": "code",
   "execution_count": null,
   "metadata": {
    "collapsed": true
   },
   "outputs": [],
   "source": []
  }
 ],
 "metadata": {
  "anaconda-cloud": {},
  "kernelspec": {
   "display_name": "Python [conda root]",
   "language": "python",
   "name": "conda-root-py"
  },
  "language_info": {
   "codemirror_mode": {
    "name": "ipython",
    "version": 2
   },
   "file_extension": ".py",
   "mimetype": "text/x-python",
   "name": "python",
   "nbconvert_exporter": "python",
   "pygments_lexer": "ipython2",
   "version": "2.7.11"
  }
 },
 "nbformat": 4,
 "nbformat_minor": 2
}
