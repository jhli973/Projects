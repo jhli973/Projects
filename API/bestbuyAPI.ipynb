{
 "cells": [
  {
   "cell_type": "markdown",
   "metadata": {},
   "source": [
    "## Best buy products API\n",
    "https://developer.bestbuy.com/documentation/products-api"
   ]
  },
  {
   "cell_type": "code",
   "execution_count": 12,
   "metadata": {
    "collapsed": true
   },
   "outputs": [],
   "source": [
    "import urllib2\n",
    "import json\n",
    "import getpass\n",
    "import pandas as pd"
   ]
  },
  {
   "cell_type": "markdown",
   "metadata": {},
   "source": [
    "### Use the getpass() function to hide the key"
   ]
  },
  {
   "cell_type": "code",
   "execution_count": 13,
   "metadata": {
    "collapsed": false
   },
   "outputs": [
    {
     "name": "stdout",
     "output_type": "stream",
     "text": [
      "········\n"
     ]
    }
   ],
   "source": [
    "KEY = getpass.getpass()"
   ]
  },
  {
   "cell_type": "markdown",
   "metadata": {},
   "source": [
    "### Get the data through API"
   ]
  },
  {
   "cell_type": "code",
   "execution_count": 139,
   "metadata": {
    "collapsed": false
   },
   "outputs": [],
   "source": [
    "#get notebook available online information and dump it on file\n",
    "source_url = 'http://api.remix.bestbuy.com'\n",
    "QUERY=\"/v1/products(name=laptop*&onlineAvailability=true)\"\n",
    "OPTS=\"?sort=name.desc&show=all&format=json\"  #format as json\n",
    "\n",
    "url = source_url + QUERY + OPTS + '&apiKey=' + KEY\n",
    "\n",
    "r = urllib2.urlopen(url)\n",
    "\n",
    "data = json.load(r)\n",
    "#dump to a file\n",
    "notebook = open(\"bb_notebook.json\", \"wb\") \n",
    "json.dump(data, notebook)\n",
    "\n",
    "#close the file\n",
    "notebook.close() "
   ]
  },
  {
   "cell_type": "markdown",
   "metadata": {},
   "source": [
    "### Explore the data\n",
    "From the best buy API documentation, we know the JSON data is a dictionary and \"products\" is one of the keys of the data.\n",
    "\"Products\" value is a list which consists of a bunch of dictionaries."
   ]
  },
  {
   "cell_type": "code",
   "execution_count": 140,
   "metadata": {
    "collapsed": false
   },
   "outputs": [
    {
     "data": {
      "text/plain": [
       "{u'accessories': [],\n",
       " u'accessoriesImage': None,\n",
       " u'active': True,\n",
       " u'activeUpdateDate': u'2016-04-25T13:35:16',\n",
       " u'addToCartUrl': u'http://www.bestbuy.com/site/olspage.jsp?id=pcmcat152200050035&type=category&cmp=RMX&ky=2f88QjPPGSkR4sZjA49ofFrY2FzBM4eHR&qvsids=4784300',\n",
       " u'affiliateAddToCartUrl': None,\n",
       " u'affiliateUrl': None,\n",
       " u'alternateViewsImage': None,\n",
       " u'angleImage': None,\n",
       " u'backViewImage': None,\n",
       " u'bestBuyItemId': u'',\n",
       " u'bestSellingRank': None,\n",
       " u'bundledIn': [],\n",
       " u'buybackPlans': [],\n",
       " u'carrierModelNumber': None,\n",
       " u'carrierPlans': [],\n",
       " u'categoryPath': [{u'id': u'cat00000', u'name': u'Best Buy'},\n",
       "  {u'id': u'abcat0800000', u'name': u'Cell Phones'},\n",
       "  {u'id': u'abcat0811002', u'name': u'Cell Phone Accessories'},\n",
       "  {u'id': u'abcat0811004', u'name': u'Cell Phone Batteries & Power'},\n",
       "  {u'id': u'pcmcat326000050010', u'name': u'Portable Chargers/Power Packs'}],\n",
       " u'class': u'MOBILE COMP. ACCESS.',\n",
       " u'classId': 124,\n",
       " u'color': u'Gray',\n",
       " u'condition': u'New',\n",
       " u'customerReviewAverage': None,\n",
       " u'customerReviewCount': None,\n",
       " u'customerTopRated': False,\n",
       " u'department': u'PHOTO/COMMODITIES',\n",
       " u'departmentId': 5,\n",
       " u'depth': u'1.3\"',\n",
       " u'description': None,\n",
       " u'details': [{u'name': u'Computer Compatibility', u'value': u'Universal'},\n",
       "  {u'name': u'USB Charging Port', u'value': u'Yes'},\n",
       "  {u'name': u'Battery Charge Time', u'value': u'4 hours'},\n",
       "  {u'name': u'Interface(s)', u'value': u'USB|AC Power'},\n",
       "  {u'name': u'Brand Compatibility', u'value': u'Universal'},\n",
       "  {u'name': u'Model Compatibility', u'value': u'Most laptops up to 65W'},\n",
       "  {u'name': u'Charger Type', u'value': u'Wall chargers'},\n",
       "  {u'name': u'Number Of Devices Charged Simultaneously', u'value': u'3'},\n",
       "  {u'name': u'Vehicle Compatible', u'value': u'No'},\n",
       "  {u'name': u'Overload Protection', u'value': u'Yes'},\n",
       "  {u'name': u'Color Category', u'value': u'Gray'},\n",
       "  {u'name': u'pricematch', u'value': u'yes'}],\n",
       " u'digital': False,\n",
       " u'dollarSavings': 0.0,\n",
       " u'earlyTerminationFees': [],\n",
       " u'energyGuideImage': None,\n",
       " u'features': [{u'feature': u'Compatible with most laptops up to 65W\\nAs well as most other USB-enabled devices.'},\n",
       "  {u'feature': u'3-in-1 charging\\nLets you charge your laptop and up to 2 additional devices simultaneously.'},\n",
       "  {u'feature': u'Overload protection\\nEnsures safe use.'},\n",
       "  {u'feature': u'Compact design\\nAllows easy storage and portability.'}],\n",
       " u'format': None,\n",
       " u'freeShipping': True,\n",
       " u'freeShippingEligible': True,\n",
       " u'frequentlyPurchasedWith': [],\n",
       " u'friendsAndFamilyPickup': False,\n",
       " u'fulfilledBy': u'BestBuy.com',\n",
       " u'height': u'3.5\"',\n",
       " u'homeDelivery': False,\n",
       " u'image': u'http://img.bbystatic.com/BestBuy_US/images/products/4784/4784300_sa.jpg',\n",
       " u'inStoreAvailability': False,\n",
       " u'inStoreAvailabilityText': u'Store Pickup: Not Available',\n",
       " u'inStoreAvailabilityTextHtml': u'<b>Store Pickup:</b> Not Available',\n",
       " u'inStoreAvailabilityUpdateDate': u'2016-04-29T09:40:15',\n",
       " u'inStorePickup': False,\n",
       " u'includedItemList': [{u'includedItem': u'Laptop Charger Plus'},\n",
       "  {u'includedItem': u'8 laptop tips'},\n",
       "  {u'includedItem': u'Travel pouch'}],\n",
       " u'itemUpdateDate': u'2016-05-20T09:40:09',\n",
       " u'largeFrontImage': u'http://img.bbystatic.com/BestBuy_US/images/products/4784/4784300_sa.jpg',\n",
       " u'largeImage': u'http://img.bbystatic.com/BestBuy_US/images/products/4784/4784300_sb.jpg',\n",
       " u'leftViewImage': None,\n",
       " u'linkShareAffiliateAddToCartUrl': u'',\n",
       " u'linkShareAffiliateUrl': u'',\n",
       " u'listingId': None,\n",
       " u'lists': [],\n",
       " u'longDescription': u'Power your laptop and 2 additional USB-enabled devices at once with this Zolt Laptop Charger Plus ZM070LTPX01-G wall charger, which features 3-in-1 charging to handle most laptops up to 65W and most smartphones, tablets and similar mobile devices.',\n",
       " u'longDescriptionHtml': u'Power your laptop and 2 additional USB-enabled devices at once with this Zolt Laptop Charger Plus ZM070LTPX01-G wall charger, which features 3-in-1 charging to handle most laptops up to 65W and most smartphones, tablets and similar mobile devices.',\n",
       " u'lowPriceGuarantee': True,\n",
       " u'manufacturer': u'Zolt',\n",
       " u'marketplace': False,\n",
       " u'mediumImage': u'http://img.bbystatic.com/BestBuy_US/images/products/4784/4784300fp.gif',\n",
       " u'mobileUrl': u'http://www.bestbuy.com/site/zolt-laptop-charger-plus-gray/4784300.p?id=1219821305888&skuId=4784300&cmp=RMX&ky=2f88QjPPGSkR4sZjA49ofFrY2FzBM4eHR',\n",
       " u'modelNumber': u'ZM070LTPX01-G',\n",
       " u'name': u'Zolt - Laptop Charger Plus - Gray',\n",
       " u'new': False,\n",
       " u'offers': [{u'endDate': u'2018-04-01T00:59:59-04:00',\n",
       "   u'heading': None,\n",
       "   u'id': u'148313',\n",
       "   u'imageUrl': None,\n",
       "   u'startDate': u'2016-01-03T00:45:00-05:00',\n",
       "   u'text': u'Free Shipping on Orders $35 and Up',\n",
       "   u'type': u'special_offer',\n",
       "   u'url': u'/site/offer/148313/pcmcat748301485567.c?id=pcmcat748301485567'}],\n",
       " u'onSale': False,\n",
       " u'onlineAvailability': True,\n",
       " u'onlineAvailabilityText': u'Shipping: Usually ships in 3-5 business days',\n",
       " u'onlineAvailabilityTextHtml': u'<b>Shipping:</b> Usually ships in 3-5 business days',\n",
       " u'onlineAvailabilityUpdateDate': u'2016-04-29T09:40:15',\n",
       " u'orderable': u'Available',\n",
       " u'outletCenter': None,\n",
       " u'percentSavings': u'0.0',\n",
       " u'planPrice': None,\n",
       " u'preowned': False,\n",
       " u'priceRestriction': None,\n",
       " u'priceUpdateDate': u'2015-12-03T15:31:47',\n",
       " u'priceWithPlan': [],\n",
       " u'productFamilies': [],\n",
       " u'productId': 1219821305888L,\n",
       " u'productTemplate': u'Computer_and_Laptop_Chargers',\n",
       " u'protectionPlans': [],\n",
       " u'quantityLimit': 5,\n",
       " u'regularPrice': 99.99,\n",
       " u'relatedProducts': [],\n",
       " u'releaseDate': None,\n",
       " u'remoteControlImage': None,\n",
       " u'rightViewImage': None,\n",
       " u'salePrice': 99.99,\n",
       " u'salesRankLongTerm': 126103,\n",
       " u'salesRankMediumTerm': 106900,\n",
       " u'salesRankShortTerm': None,\n",
       " u'search': None,\n",
       " u'secondaryMarket': None,\n",
       " u'sellerId': None,\n",
       " u'shipping': [{u'ground': 0.0,\n",
       "   u'nextDay': 19.98,\n",
       "   u'secondDay': 11.98,\n",
       "   u'vendorDelivery': u''}],\n",
       " u'shippingCost': 0.0,\n",
       " u'shippingLevelsOfService': [{u'serviceLevelId': 1,\n",
       "   u'serviceLevelName': u'Standard',\n",
       "   u'unitShippingPrice': 0.0},\n",
       "  {u'serviceLevelId': 3,\n",
       "   u'serviceLevelName': u'Expedited',\n",
       "   u'unitShippingPrice': 11.98},\n",
       "  {u'serviceLevelId': 5,\n",
       "   u'serviceLevelName': u'Express',\n",
       "   u'unitShippingPrice': 19.98}],\n",
       " u'shippingRestrictions': None,\n",
       " u'shippingWeight': u'0.83',\n",
       " u'shortDescription': u'ZOLT Laptop Charger Plus: Compatible with most laptops up to 65W; charges 2 additional USB-powered devices; overload protection; compact design',\n",
       " u'shortDescriptionHtml': u'ZOLT Laptop Charger Plus: Compatible with most laptops up to 65W; charges 2 additional USB-powered devices; overload protection; compact design',\n",
       " u'sku': 4784300,\n",
       " u'source': u'bestbuy',\n",
       " u'specialOrder': False,\n",
       " u'spin360Url': None,\n",
       " u'startDate': u'2015-12-23',\n",
       " u'subclass': u'SO LAPTOP ACCY',\n",
       " u'subclassId': 411,\n",
       " u'techSupportPlans': [],\n",
       " u'technologyCode': None,\n",
       " u'thumbnailImage': u'http://img.bbystatic.com/BestBuy_US/images/products/4784/4784300_s.gif',\n",
       " u'topViewImage': None,\n",
       " u'tradeInValue': u'',\n",
       " u'type': u'HardGood',\n",
       " u'upc': u'814230020024',\n",
       " u'url': u'http://www.bestbuy.com/site/zolt-laptop-charger-plus-gray/4784300.p?id=1219821305888&skuId=4784300&cmp=RMX&ky=2f88QjPPGSkR4sZjA49ofFrY2FzBM4eHR',\n",
       " u'warrantyLabor': u'1 year',\n",
       " u'warrantyParts': u'1 year',\n",
       " u'weight': u'0.8 pounds',\n",
       " u'width': u'1.3\"'}"
      ]
     },
     "execution_count": 140,
     "metadata": {},
     "output_type": "execute_result"
    }
   ],
   "source": [
    "#Explore the first element of the list\n",
    "products = data['products']\n",
    "products[0]"
   ]
  },
  {
   "cell_type": "code",
   "execution_count": 141,
   "metadata": {
    "collapsed": false
   },
   "outputs": [
    {
     "data": {
      "text/plain": [
       "[u'frequentlyPurchasedWith',\n",
       " u'fulfilledBy',\n",
       " u'releaseDate',\n",
       " u'shippingRestrictions',\n",
       " u'rightViewImage',\n",
       " u'salesRankMediumTerm',\n",
       " u'friendsAndFamilyPickup',\n",
       " u'warrantyLabor',\n",
       " u'leftViewImage',\n",
       " u'subclassId',\n",
       " u'sku',\n",
       " u'customerReviewCount',\n",
       " u'dollarSavings',\n",
       " u'source',\n",
       " u'offers',\n",
       " u'tradeInValue',\n",
       " u'inStoreAvailabilityTextHtml',\n",
       " u'earlyTerminationFees',\n",
       " u'preowned',\n",
       " u'longDescriptionHtml',\n",
       " u'largeImage',\n",
       " u'format',\n",
       " u'longDescription',\n",
       " u'onlineAvailabilityTextHtml',\n",
       " u'department',\n",
       " u'sellerId',\n",
       " u'condition',\n",
       " u'secondaryMarket',\n",
       " u'name',\n",
       " u'homeDelivery',\n",
       " u'mobileUrl',\n",
       " u'percentSavings',\n",
       " u'upc',\n",
       " u'modelNumber',\n",
       " u'weight',\n",
       " u'planPrice',\n",
       " u'lowPriceGuarantee',\n",
       " u'affiliateUrl',\n",
       " u'includedItemList',\n",
       " u'listingId',\n",
       " u'subclass',\n",
       " u'inStorePickup',\n",
       " u'salesRankLongTerm',\n",
       " u'linkShareAffiliateUrl',\n",
       " u'new',\n",
       " u'technologyCode',\n",
       " u'priceUpdateDate',\n",
       " u'inStoreAvailability',\n",
       " u'remoteControlImage',\n",
       " u'inStoreAvailabilityText',\n",
       " u'active',\n",
       " u'manufacturer',\n",
       " u'onSale',\n",
       " u'search',\n",
       " u'priceRestriction',\n",
       " u'shipping',\n",
       " u'shippingLevelsOfService',\n",
       " u'affiliateAddToCartUrl',\n",
       " u'priceWithPlan',\n",
       " u'relatedProducts',\n",
       " u'startDate',\n",
       " u'features',\n",
       " u'color',\n",
       " u'image',\n",
       " u'height',\n",
       " u'productTemplate',\n",
       " u'largeFrontImage',\n",
       " u'addToCartUrl',\n",
       " u'onlineAvailabilityUpdateDate',\n",
       " u'inStoreAvailabilityUpdateDate',\n",
       " u'freeShipping',\n",
       " u'shippingCost',\n",
       " u'onlineAvailability',\n",
       " u'width',\n",
       " u'outletCenter',\n",
       " u'departmentId',\n",
       " u'mediumImage',\n",
       " u'bundledIn',\n",
       " u'type',\n",
       " u'activeUpdateDate',\n",
       " u'specialOrder',\n",
       " u'customerTopRated',\n",
       " u'lists',\n",
       " u'categoryPath',\n",
       " u'backViewImage',\n",
       " u'angleImage',\n",
       " u'energyGuideImage',\n",
       " u'regularPrice',\n",
       " u'salesRankShortTerm',\n",
       " u'salePrice',\n",
       " u'bestSellingRank',\n",
       " u'accessoriesImage',\n",
       " u'linkShareAffiliateAddToCartUrl',\n",
       " u'marketplace',\n",
       " u'bestBuyItemId',\n",
       " u'customerReviewAverage',\n",
       " u'accessories',\n",
       " u'carrierModelNumber',\n",
       " u'shortDescription',\n",
       " u'freeShippingEligible',\n",
       " u'carrierPlans',\n",
       " u'spin360Url',\n",
       " u'techSupportPlans',\n",
       " u'details',\n",
       " u'digital',\n",
       " u'protectionPlans',\n",
       " u'orderable',\n",
       " u'productFamilies',\n",
       " u'productId',\n",
       " u'alternateViewsImage',\n",
       " u'warrantyParts',\n",
       " u'description',\n",
       " u'onlineAvailabilityText',\n",
       " u'buybackPlans',\n",
       " u'thumbnailImage',\n",
       " u'shortDescriptionHtml',\n",
       " u'class',\n",
       " u'classId',\n",
       " u'itemUpdateDate',\n",
       " u'quantityLimit',\n",
       " u'url',\n",
       " u'shippingWeight',\n",
       " u'depth',\n",
       " u'topViewImage']"
      ]
     },
     "execution_count": 141,
     "metadata": {},
     "output_type": "execute_result"
    }
   ],
   "source": [
    "#Check the keys \n",
    "products[0].keys()"
   ]
  },
  {
   "cell_type": "markdown",
   "metadata": {},
   "source": [
    "### Build the dataframe"
   ]
  },
  {
   "cell_type": "code",
   "execution_count": 255,
   "metadata": {
    "collapsed": true
   },
   "outputs": [],
   "source": [
    "#Get a subset of keys - interested columns\n",
    "cols = ['sku', 'customerReviewAverage', 'customerReviewCount', 'name', 'condition', 'manufactureer','shippingCost', \n",
    "         'regularPrice', 'salePrice', 'description']"
   ]
  },
  {
   "cell_type": "code",
   "execution_count": 256,
   "metadata": {
    "collapsed": false
   },
   "outputs": [
    {
     "name": "stdout",
     "output_type": "stream",
     "text": [
      "1463776520.32\n",
      "1463776520.39\n"
     ]
    },
    {
     "data": {
      "text/html": [
       "<div>\n",
       "<table border=\"1\" class=\"dataframe\">\n",
       "  <thead>\n",
       "    <tr style=\"text-align: right;\">\n",
       "      <th></th>\n",
       "      <th>sku</th>\n",
       "      <th>customerReviewAverage</th>\n",
       "      <th>customerReviewCount</th>\n",
       "      <th>name</th>\n",
       "      <th>condition</th>\n",
       "      <th>manufactureer</th>\n",
       "      <th>shippingCost</th>\n",
       "      <th>regularPrice</th>\n",
       "      <th>salePrice</th>\n",
       "      <th>description</th>\n",
       "    </tr>\n",
       "  </thead>\n",
       "  <tbody>\n",
       "    <tr>\n",
       "      <th>0</th>\n",
       "      <td>4784300</td>\n",
       "      <td>None</td>\n",
       "      <td>None</td>\n",
       "      <td>Zolt - Laptop Charger Plus - Gray</td>\n",
       "      <td>New</td>\n",
       "      <td>NaN</td>\n",
       "      <td>0.0</td>\n",
       "      <td>99.99</td>\n",
       "      <td>99.99</td>\n",
       "      <td>None</td>\n",
       "    </tr>\n",
       "    <tr>\n",
       "      <th>1</th>\n",
       "      <td>5049649</td>\n",
       "      <td>1.0</td>\n",
       "      <td>1</td>\n",
       "      <td>Women In Business - Bonita Classica Laptop Cas...</td>\n",
       "      <td>New</td>\n",
       "      <td>NaN</td>\n",
       "      <td>0.0</td>\n",
       "      <td>69.99</td>\n",
       "      <td>69.99</td>\n",
       "      <td>None</td>\n",
       "    </tr>\n",
       "  </tbody>\n",
       "</table>\n",
       "</div>"
      ],
      "text/plain": [
       "       sku customerReviewAverage customerReviewCount  \\\n",
       "0  4784300                  None                None   \n",
       "1  5049649                   1.0                   1   \n",
       "\n",
       "                                                name condition manufactureer  \\\n",
       "0                  Zolt - Laptop Charger Plus - Gray       New           NaN   \n",
       "1  Women In Business - Bonita Classica Laptop Cas...       New           NaN   \n",
       "\n",
       "   shippingCost  regularPrice  salePrice description  \n",
       "0           0.0         99.99      99.99        None  \n",
       "1           0.0         69.99      69.99        None  "
      ]
     },
     "execution_count": 256,
     "metadata": {},
     "output_type": "execute_result"
    }
   ],
   "source": [
    "# Method 1 - to compare with the method 2, use the time function\n",
    "import time\n",
    "\n",
    "print time.time()\n",
    "\n",
    "df = pd.DataFrame()\n",
    "\n",
    "ln =len(products)\n",
    "for i in range(0,ln):\n",
    "    dit = {key:value for key, value in products[i].items() if key in cols}\n",
    "    df = df.append(pd.DataFrame(dit, columns=cols,index=[i]))\n",
    "    \n",
    "print time.time()\n",
    "df.head(2)  "
   ]
  },
  {
   "cell_type": "code",
   "execution_count": 257,
   "metadata": {
    "collapsed": false
   },
   "outputs": [
    {
     "name": "stdout",
     "output_type": "stream",
     "text": [
      "1463776522.25\n",
      "1463776522.29\n"
     ]
    },
    {
     "data": {
      "text/html": [
       "<div>\n",
       "<table border=\"1\" class=\"dataframe\">\n",
       "  <thead>\n",
       "    <tr style=\"text-align: right;\">\n",
       "      <th></th>\n",
       "      <th>sku</th>\n",
       "      <th>customerReviewAverage</th>\n",
       "      <th>customerReviewCount</th>\n",
       "      <th>name</th>\n",
       "      <th>condition</th>\n",
       "      <th>manufactureer</th>\n",
       "      <th>shippingCost</th>\n",
       "      <th>regularPrice</th>\n",
       "      <th>salePrice</th>\n",
       "      <th>description</th>\n",
       "    </tr>\n",
       "  </thead>\n",
       "  <tbody>\n",
       "    <tr>\n",
       "      <th>0</th>\n",
       "      <td>4784300</td>\n",
       "      <td>None</td>\n",
       "      <td>None</td>\n",
       "      <td>Zolt - Laptop Charger Plus - Gray</td>\n",
       "      <td>New</td>\n",
       "      <td>NaN</td>\n",
       "      <td>0.0</td>\n",
       "      <td>99.99</td>\n",
       "      <td>99.99</td>\n",
       "      <td>None</td>\n",
       "    </tr>\n",
       "    <tr>\n",
       "      <th>1</th>\n",
       "      <td>5049649</td>\n",
       "      <td>1.0</td>\n",
       "      <td>1</td>\n",
       "      <td>Women In Business - Bonita Classica Laptop Cas...</td>\n",
       "      <td>New</td>\n",
       "      <td>NaN</td>\n",
       "      <td>0.0</td>\n",
       "      <td>69.99</td>\n",
       "      <td>69.99</td>\n",
       "      <td>None</td>\n",
       "    </tr>\n",
       "  </tbody>\n",
       "</table>\n",
       "</div>"
      ],
      "text/plain": [
       "       sku customerReviewAverage customerReviewCount  \\\n",
       "0  4784300                  None                None   \n",
       "1  5049649                   1.0                   1   \n",
       "\n",
       "                                                name condition manufactureer  \\\n",
       "0                  Zolt - Laptop Charger Plus - Gray       New           NaN   \n",
       "1  Women In Business - Bonita Classica Laptop Cas...       New           NaN   \n",
       "\n",
       "   shippingCost  regularPrice  salePrice description  \n",
       "0           0.0         99.99      99.99        None  \n",
       "1           0.0         69.99      69.99        None  "
      ]
     },
     "execution_count": 257,
     "metadata": {},
     "output_type": "execute_result"
    }
   ],
   "source": [
    "# Method 2\n",
    "print time.time()\n",
    "data_frames = {}\n",
    "\n",
    "ln =len(products)\n",
    "for i in range(0,ln):\n",
    "    dit = {key:value for key, value in products[i].items() if key in cols}\n",
    "    data_frames[i] = pd.DataFrame(dit, columns=cols, index=[i])\n",
    "\n",
    "dt = pd.concat(data_frames, ignore_index=True)\n",
    "\n",
    "print time.time()\n",
    "dt.head(2)"
   ]
  },
  {
   "cell_type": "markdown",
   "metadata": {},
   "source": [
    "#### Get into the deep\n",
    "As we can see that the the key \"shipping\" has a list value. how to get all this infomation out?\n",
    "   u'shipping': [{u'ground': 0.0,\n",
    "   u'nextDay': 19.98,\n",
    "   u'secondDay': 11.98,\n",
    "   u'vendorDelivery': u''}]\n",
    "Suppose we want to get the sku, name , shipping information. If we use the same method, data in shipping column will \n",
    "not show nicely"
   ]
  },
  {
   "cell_type": "code",
   "execution_count": 258,
   "metadata": {
    "collapsed": false
   },
   "outputs": [
    {
     "data": {
      "text/html": [
       "<div>\n",
       "<table border=\"1\" class=\"dataframe\">\n",
       "  <thead>\n",
       "    <tr style=\"text-align: right;\">\n",
       "      <th></th>\n",
       "      <th>sku</th>\n",
       "      <th>name</th>\n",
       "      <th>shipping</th>\n",
       "    </tr>\n",
       "  </thead>\n",
       "  <tbody>\n",
       "    <tr>\n",
       "      <th>0</th>\n",
       "      <td>4784300</td>\n",
       "      <td>Zolt - Laptop Charger Plus - Gray</td>\n",
       "      <td>{u'vendorDelivery': u'', u'secondDay': 11.98, ...</td>\n",
       "    </tr>\n",
       "    <tr>\n",
       "      <th>1</th>\n",
       "      <td>5049649</td>\n",
       "      <td>Women In Business - Bonita Classica Laptop Cas...</td>\n",
       "      <td>{u'vendorDelivery': u'', u'secondDay': 14.95, ...</td>\n",
       "    </tr>\n",
       "  </tbody>\n",
       "</table>\n",
       "</div>"
      ],
      "text/plain": [
       "       sku                                               name  \\\n",
       "0  4784300                  Zolt - Laptop Charger Plus - Gray   \n",
       "1  5049649  Women In Business - Bonita Classica Laptop Cas...   \n",
       "\n",
       "                                            shipping  \n",
       "0  {u'vendorDelivery': u'', u'secondDay': 11.98, ...  \n",
       "1  {u'vendorDelivery': u'', u'secondDay': 14.95, ...  "
      ]
     },
     "execution_count": 258,
     "metadata": {},
     "output_type": "execute_result"
    }
   ],
   "source": [
    "cols = ['sku', 'name', 'shipping']\n",
    "\n",
    "dt = pd.DataFrame()\n",
    "\n",
    "ln =len(products)\n",
    "for i in range(0,ln):\n",
    "    dit = {key:value for key, value in products[i].items() if key in cols}\n",
    "    products[i]\n",
    "    dt = dt.append(pd.DataFrame(dit, columns=cols,index=[i]))\n",
    "dt.head(2)"
   ]
  },
  {
   "cell_type": "code",
   "execution_count": 259,
   "metadata": {
    "collapsed": false
   },
   "outputs": [
    {
     "data": {
      "text/html": [
       "<div>\n",
       "<table border=\"1\" class=\"dataframe\">\n",
       "  <thead>\n",
       "    <tr style=\"text-align: right;\">\n",
       "      <th></th>\n",
       "      <th>sku</th>\n",
       "      <th>name</th>\n",
       "      <th>ground</th>\n",
       "      <th>nextDay</th>\n",
       "      <th>secondDay</th>\n",
       "      <th>vendorDelivery</th>\n",
       "    </tr>\n",
       "  </thead>\n",
       "  <tbody>\n",
       "    <tr>\n",
       "      <th>0</th>\n",
       "      <td>4784300</td>\n",
       "      <td>Zolt - Laptop Charger Plus - Gray</td>\n",
       "      <td>0.0</td>\n",
       "      <td>19.98</td>\n",
       "      <td>11.98</td>\n",
       "      <td></td>\n",
       "    </tr>\n",
       "    <tr>\n",
       "      <th>1</th>\n",
       "      <td>5049649</td>\n",
       "      <td>Women In Business - Bonita Classica Laptop Cas...</td>\n",
       "      <td>0.0</td>\n",
       "      <td>25.95</td>\n",
       "      <td>14.95</td>\n",
       "      <td></td>\n",
       "    </tr>\n",
       "    <tr>\n",
       "      <th>2</th>\n",
       "      <td>6330355</td>\n",
       "      <td>WIB - Francine Collection Park Avenue Laptop C...</td>\n",
       "      <td>0.0</td>\n",
       "      <td>25.95</td>\n",
       "      <td>14.95</td>\n",
       "      <td></td>\n",
       "    </tr>\n",
       "    <tr>\n",
       "      <th>3</th>\n",
       "      <td>6330346</td>\n",
       "      <td>WIB - Francine Collection Park Avenue Laptop C...</td>\n",
       "      <td>0.0</td>\n",
       "      <td>25.95</td>\n",
       "      <td>14.95</td>\n",
       "      <td></td>\n",
       "    </tr>\n",
       "    <tr>\n",
       "      <th>4</th>\n",
       "      <td>6330391</td>\n",
       "      <td>WIB - Francine Collection Park Avenue Laptop C...</td>\n",
       "      <td>0.0</td>\n",
       "      <td>25.95</td>\n",
       "      <td>14.95</td>\n",
       "      <td></td>\n",
       "    </tr>\n",
       "  </tbody>\n",
       "</table>\n",
       "</div>"
      ],
      "text/plain": [
       "       sku                                               name  ground  \\\n",
       "0  4784300                  Zolt - Laptop Charger Plus - Gray     0.0   \n",
       "1  5049649  Women In Business - Bonita Classica Laptop Cas...     0.0   \n",
       "2  6330355  WIB - Francine Collection Park Avenue Laptop C...     0.0   \n",
       "3  6330346  WIB - Francine Collection Park Avenue Laptop C...     0.0   \n",
       "4  6330391  WIB - Francine Collection Park Avenue Laptop C...     0.0   \n",
       "\n",
       "   nextDay  secondDay vendorDelivery  \n",
       "0    19.98      11.98                 \n",
       "1    25.95      14.95                 \n",
       "2    25.95      14.95                 \n",
       "3    25.95      14.95                 \n",
       "4    25.95      14.95                 "
      ]
     },
     "execution_count": 259,
     "metadata": {},
     "output_type": "execute_result"
    }
   ],
   "source": [
    "#To work around this, we have to separate it into two parts.\n",
    "cols = ['sku', 'name']\n",
    "col = 'shipping'\n",
    "\n",
    "dt = pd.DataFrame()\n",
    "\n",
    "ln =len(products)\n",
    "for i in range(0,ln):\n",
    "    dit1 = {key:value for key, value in products[i].items() if key in cols}\n",
    "    #it is important to use the same index\n",
    "    dit1 = pd.DataFrame(dit1, columns=cols,index=[i])\n",
    "    dit2 = pd.DataFrame.from_records(products[i][col],index=[i])\n",
    "    dit = pd.concat([dit1, dit2], axis=1)\n",
    "    dt = dt.append(dit)\n",
    "dt.head()"
   ]
  },
  {
   "cell_type": "code",
   "execution_count": 260,
   "metadata": {
    "collapsed": false
   },
   "outputs": [
    {
     "data": {
      "text/html": [
       "<div>\n",
       "<table border=\"1\" class=\"dataframe\">\n",
       "  <thead>\n",
       "    <tr style=\"text-align: right;\">\n",
       "      <th></th>\n",
       "      <th>sku</th>\n",
       "      <th>name</th>\n",
       "      <th>shipping.ground</th>\n",
       "      <th>shipping.nextDay</th>\n",
       "      <th>shipping.secondDay</th>\n",
       "      <th>shipping.vendorDelivery</th>\n",
       "    </tr>\n",
       "  </thead>\n",
       "  <tbody>\n",
       "    <tr>\n",
       "      <th>0</th>\n",
       "      <td>4784300</td>\n",
       "      <td>Zolt - Laptop Charger Plus - Gray</td>\n",
       "      <td>0.0</td>\n",
       "      <td>19.98</td>\n",
       "      <td>11.98</td>\n",
       "      <td></td>\n",
       "    </tr>\n",
       "    <tr>\n",
       "      <th>1</th>\n",
       "      <td>5049649</td>\n",
       "      <td>Women In Business - Bonita Classica Laptop Cas...</td>\n",
       "      <td>0.0</td>\n",
       "      <td>25.95</td>\n",
       "      <td>14.95</td>\n",
       "      <td></td>\n",
       "    </tr>\n",
       "  </tbody>\n",
       "</table>\n",
       "</div>"
      ],
      "text/plain": [
       "       sku                                               name  \\\n",
       "0  4784300                  Zolt - Laptop Charger Plus - Gray   \n",
       "1  5049649  Women In Business - Bonita Classica Laptop Cas...   \n",
       "\n",
       "   shipping.ground  shipping.nextDay  shipping.secondDay  \\\n",
       "0              0.0             19.98               11.98   \n",
       "1              0.0             25.95               14.95   \n",
       "\n",
       "  shipping.vendorDelivery  \n",
       "0                          \n",
       "1                          "
      ]
     },
     "execution_count": 260,
     "metadata": {},
     "output_type": "execute_result"
    }
   ],
   "source": [
    "#rename the columns\n",
    "cols = ['sku', 'name', 'shipping.ground','shipping.nextDay','shipping.secondDay','shipping.vendorDelivery']\n",
    "dt.columns = cols\n",
    "dt.head(2)"
   ]
  },
  {
   "cell_type": "code",
   "execution_count": null,
   "metadata": {
    "collapsed": true
   },
   "outputs": [],
   "source": []
  },
  {
   "cell_type": "markdown",
   "metadata": {},
   "source": [
    "### Analyze the data"
   ]
  },
  {
   "cell_type": "code",
   "execution_count": 261,
   "metadata": {
    "collapsed": false
   },
   "outputs": [
    {
     "data": {
      "text/html": [
       "<div>\n",
       "<table border=\"1\" class=\"dataframe\">\n",
       "  <thead>\n",
       "    <tr style=\"text-align: right;\">\n",
       "      <th></th>\n",
       "      <th>sku</th>\n",
       "      <th>name</th>\n",
       "      <th>regularPrice</th>\n",
       "      <th>salePrice</th>\n",
       "    </tr>\n",
       "  </thead>\n",
       "  <tbody>\n",
       "    <tr>\n",
       "      <th>5</th>\n",
       "      <td>9314108</td>\n",
       "      <td>WD - Mainstream 500GB Internal Serial ATA Hard...</td>\n",
       "      <td>49.99</td>\n",
       "      <td>49.99</td>\n",
       "    </tr>\n",
       "    <tr>\n",
       "      <th>6</th>\n",
       "      <td>9312128</td>\n",
       "      <td>WD - Mainstream 320GB Internal Serial ATA Hard...</td>\n",
       "      <td>49.99</td>\n",
       "      <td>49.99</td>\n",
       "    </tr>\n",
       "    <tr>\n",
       "      <th>7</th>\n",
       "      <td>9314126</td>\n",
       "      <td>WD - Mainstream 1TB Internal Serial ATA Hard D...</td>\n",
       "      <td>69.99</td>\n",
       "      <td>69.99</td>\n",
       "    </tr>\n",
       "  </tbody>\n",
       "</table>\n",
       "</div>"
      ],
      "text/plain": [
       "       sku                                               name  regularPrice  \\\n",
       "5  9314108  WD - Mainstream 500GB Internal Serial ATA Hard...         49.99   \n",
       "6  9312128  WD - Mainstream 320GB Internal Serial ATA Hard...         49.99   \n",
       "7  9314126  WD - Mainstream 1TB Internal Serial ATA Hard D...         69.99   \n",
       "\n",
       "   salePrice  \n",
       "5      49.99  \n",
       "6      49.99  \n",
       "7      69.99  "
      ]
     },
     "execution_count": 261,
     "metadata": {},
     "output_type": "execute_result"
    }
   ],
   "source": [
    "# get the sku, name, regularPrice, and salePrice info of paroducts with at least 100 customer reviews and average review \n",
    "# above 4 (include 4). \n",
    "df[(df.customerReviewAverage >= 4) & (df.customerReviewCount > 100)].ix[ : ,['sku', 'name', 'regularPrice','salePrice']]"
   ]
  },
  {
   "cell_type": "code",
   "execution_count": 262,
   "metadata": {
    "collapsed": false
   },
   "outputs": [
    {
     "data": {
      "text/html": [
       "<div>\n",
       "<table border=\"1\" class=\"dataframe\">\n",
       "  <thead>\n",
       "    <tr style=\"text-align: right;\">\n",
       "      <th></th>\n",
       "      <th>sku</th>\n",
       "      <th>name_x</th>\n",
       "      <th>shipping.ground</th>\n",
       "      <th>shipping.nextDay</th>\n",
       "      <th>shipping.secondDay</th>\n",
       "      <th>shipping.vendorDelivery</th>\n",
       "      <th>customerReviewAverage</th>\n",
       "      <th>customerReviewCount</th>\n",
       "      <th>name_y</th>\n",
       "      <th>condition</th>\n",
       "      <th>manufactureer</th>\n",
       "      <th>shippingCost</th>\n",
       "      <th>regularPrice</th>\n",
       "      <th>salePrice</th>\n",
       "      <th>description</th>\n",
       "    </tr>\n",
       "  </thead>\n",
       "  <tbody>\n",
       "    <tr>\n",
       "      <th>5</th>\n",
       "      <td>9314108</td>\n",
       "      <td>WD - Mainstream 500GB Internal Serial ATA Hard...</td>\n",
       "      <td>0.0</td>\n",
       "      <td>19.98</td>\n",
       "      <td>11.98</td>\n",
       "      <td></td>\n",
       "      <td>4.6</td>\n",
       "      <td>853</td>\n",
       "      <td>WD - Mainstream 500GB Internal Serial ATA Hard...</td>\n",
       "      <td>New</td>\n",
       "      <td>NaN</td>\n",
       "      <td>0.0</td>\n",
       "      <td>49.99</td>\n",
       "      <td>49.99</td>\n",
       "      <td>None</td>\n",
       "    </tr>\n",
       "  </tbody>\n",
       "</table>\n",
       "</div>"
      ],
      "text/plain": [
       "       sku                                             name_x  \\\n",
       "5  9314108  WD - Mainstream 500GB Internal Serial ATA Hard...   \n",
       "\n",
       "   shipping.ground  shipping.nextDay  shipping.secondDay  \\\n",
       "5              0.0             19.98               11.98   \n",
       "\n",
       "  shipping.vendorDelivery customerReviewAverage customerReviewCount  \\\n",
       "5                                           4.6                 853   \n",
       "\n",
       "                                              name_y condition manufactureer  \\\n",
       "5  WD - Mainstream 500GB Internal Serial ATA Hard...       New           NaN   \n",
       "\n",
       "   shippingCost  regularPrice  salePrice description  \n",
       "5           0.0         49.99      49.99        None  "
      ]
     },
     "execution_count": 262,
     "metadata": {},
     "output_type": "execute_result"
    }
   ],
   "source": [
    "# get all the info including shipping price of product (sku = 9314108)\n",
    "dt_merge = pd.merge(dt, df, on='sku', how='inner')\n",
    "dt_merge[dt_merge.sku==9314108]"
   ]
  },
  {
   "cell_type": "code",
   "execution_count": 263,
   "metadata": {
    "collapsed": false
   },
   "outputs": [
    {
     "name": "stdout",
     "output_type": "stream",
     "text": [
      "         regularPrice  salePrice\n",
      "sku                             \n",
      "4784300         99.99      99.99\n",
      "5049649         69.99      69.99\n"
     ]
    },
    {
     "data": {
      "text/plain": [
       "<matplotlib.axes._subplots.AxesSubplot at 0xc7a6048>"
      ]
     },
     "execution_count": 263,
     "metadata": {},
     "output_type": "execute_result"
    },
    {
     "data": {
      "image/png": "[encoded data removed]",
      "text/plain": [
       "<matplotlib.figure.Figure at 0xb9ead30>"
      ]
     },
     "metadata": {},
     "output_type": "display_data"
    }
   ],
   "source": [
    "# plot the regularPrice and salePrice\n",
    "import numpy as np\n",
    "import matplotlib.pyplot as plt\n",
    "%matplotlib inline\n",
    "\n",
    "d = df[['sku','regularPrice', 'salePrice']]\n",
    "d = d.set_index('sku')\n",
    "\n",
    "d.plot.bar()"
   ]
  },
  {
   "cell_type": "code",
   "execution_count": 264,
   "metadata": {
    "collapsed": false
   },
   "outputs": [
    {
     "data": {
      "text/plain": [
       "<matplotlib.axes._subplots.AxesSubplot at 0xb34b198>"
      ]
     },
     "execution_count": 264,
     "metadata": {},
     "output_type": "execute_result"
    },
    {
     "data": {
      "image/png": "[encoded data removed]",
      "text/plain": [
       "<matplotlib.figure.Figure at 0xb961400>"
      ]
     },
     "metadata": {},
     "output_type": "display_data"
    }
   ],
   "source": [
    "d.plot.bar(stacked=True)"
   ]
  },
  {
   "cell_type": "code",
   "execution_count": 265,
   "metadata": {
    "collapsed": false
   },
   "outputs": [
    {
     "data": {
      "text/plain": [
       "<matplotlib.axes._subplots.AxesSubplot at 0xc7a62e8>"
      ]
     },
     "execution_count": 265,
     "metadata": {},
     "output_type": "execute_result"
    },
    {
     "data": {
      "image/png": "[encoded data removed]",
      "text/plain": [
       "<matplotlib.figure.Figure at 0x9f215c0>"
      ]
     },
     "metadata": {},
     "output_type": "display_data"
    }
   ],
   "source": [
    "d.plot.barh(stacked=True)"
   ]
  },
  {
   "cell_type": "markdown",
   "metadata": {},
   "source": [
    "### Summary\n"
   ]
  },
  {
   "cell_type": "markdown",
   "metadata": {},
   "source": [
    "In this post, I have demonstrated how to get the data through API. I have also shown how to parse the json file with json package and how to convert it into a workable pandas dataframe. Please note that if you work on large volume of data, you may consider to use ijson package as mentioned by Vik's post (see below). This package might be slower than directly reading the whole file in, but it avoid choke when the data can’t fit in memory. "
   ]
  },
  {
   "cell_type": "markdown",
   "metadata": {},
   "source": [
    "### Further reading"
   ]
  },
  {
   "cell_type": "code",
   "execution_count": 266,
   "metadata": {
    "collapsed": true
   },
   "outputs": [],
   "source": [
    "# https://developer.bestbuy.com/tutorials\n",
    "# https://www.dataquest.io/blog/python-json-tutorial/"
   ]
  },
  {
   "cell_type": "code",
   "execution_count": null,
   "metadata": {
    "collapsed": true
   },
   "outputs": [],
   "source": []
  }
 ],
 "metadata": {
  "kernelspec": {
   "display_name": "Python 2",
   "language": "python",
   "name": "python2"
  },
  "language_info": {
   "codemirror_mode": {
    "name": "ipython",
    "version": 2
   },
   "file_extension": ".py",
   "mimetype": "text/x-python",
   "name": "python",
   "nbconvert_exporter": "python",
   "pygments_lexer": "ipython2",
   "version": "2.7.11"
  }
 },
 "nbformat": 4,
 "nbformat_minor": 0
}
