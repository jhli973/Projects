{
 "cells": [
  {
   "cell_type": "markdown",
   "metadata": {},
   "source": [
    "# Password and hijacked email\n",
    "\n",
    "\n",
    "### This project was proposed by [Vincent Granville](http://www.datasciencecentral.com/forum/topics/password-dataset-for-you-to-test-your-data-science-skills) to challenge your data science skills. Basically one should try to answer the following three questions:\n",
    "\n",
    "- What are the most common patterns found in passwords?\n",
    "- Based on these patterns, how to build robust yet easy-to-remember passwords?\n",
    "- Does this password data set look OK, or do you think it is somewhat inaccurate or not representative of the password universe? If not, can we still draw valid conclusions from this data set, and how?\n",
    "\n",
    "Data is available [here](http://www.dazzlepod.com/site_media/txt/passwords.txt)"
   ]
  },
  {
   "cell_type": "markdown",
   "metadata": {},
   "source": [
    "## Step 1. Load Packages"
   ]
  },
  {
   "cell_type": "code",
<<<<<<< HEAD
   "execution_count": 1,
=======
   "execution_count": 76,
>>>>>>> 607401c72ed9fc22aeb3225bc29f1a5ba39a0572
   "metadata": {
    "collapsed": false
   },
   "outputs": [],
   "source": [
    "import pandas as pd\n",
    "import numpy as np\n",
    "from pandas import Series, DataFrame\n",
    "import matplotlib.pyplot as plt\n",
    "import seaborn as sns\n",
    "%matplotlib inline"
   ]
  },
  {
   "cell_type": "markdown",
   "metadata": {},
   "source": [
    "# Step 2. Load Data"
   ]
  },
  {
   "cell_type": "code",
   "execution_count": 2,
   "metadata": {
    "collapsed": false
   },
   "outputs": [
    {
     "name": "stdout",
     "output_type": "stream",
     "text": [
      "Server: nginx\r\n",
      "Date: Tue, 22 Nov 2016 00:39:04 GMT\r\n",
      "Content-Type: text/plain; charset=utf-8\r\n",
      "Content-Length: 20163399\r\n",
      "Last-Modified: Sun, 27 Mar 2016 05:04:06 GMT\r\n",
      "Connection: close\r\n",
      "Vary: Accept-Encoding\r\n",
      "ETag: \"56f769c6-133ab47\"\r\n",
      "Expires: Tue, 29 Nov 2016 00:39:04 GMT\r\n",
      "Cache-Control: max-age=604800\r\n",
      "Accept-Ranges: bytes\r\n",
      "\n"
     ]
    }
   ],
   "source": [
    "import urllib2\n",
    "\n",
    "url= 'http://www.dazzlepod.com/site_media/txt/passwords.txt'\n",
    "response = urllib2.urlopen(url)\n",
    "print response.info()"
   ]
  },
  {
   "cell_type": "code",
   "execution_count": 3,
   "metadata": {
    "collapsed": true
   },
   "outputs": [],
   "source": [
    "# save into file in case lost the connection \n",
    "rawfile = open('passwords.txt', 'r+')\n",
    "rawfile.truncate()\n",
    "for line in response.read():\n",
    "    rawfile.write(line)\n",
    "rawfile.close()   "
   ]
  },
  {
   "cell_type": "code",
<<<<<<< HEAD
   "execution_count": 2,
=======
   "execution_count": 64,
>>>>>>> 607401c72ed9fc22aeb3225bc29f1a5ba39a0572
   "metadata": {
    "collapsed": false
   },
   "outputs": [
    {
     "name": "stdout",
     "output_type": "stream",
     "text": [
      "#\n",
      "\n",
      "# This is a list of 2,151,220 unique ASCII passwords in sorted order according\n",
      "\n",
      "# to their native byte values using UNIX sort command.\n",
      "\n",
      "#\n",
      "\n",
      "# This list (also known as wordlist, password dictionary or password list)\n",
      "\n",
      "# is useful for password recovery tools such as John the Ripper, oclHashcat\n",
      "\n",
      "# and Aircrack-ng. To use this file, be sure to first remove these comment\n",
      "\n",
      "# lines, i.e. the lines starting with # character.\n",
      "\n",
      "#\n",
      "\n",
      "# If you are looking for a better password dictionary,\n",
      "\n",
      "# see http://dazzlepod.com/uniqpass/\n",
      "\n",
      "#\n",
      "\n",
      "# $DateTime: 2016/03/27 16:04:06 $\n",
      "\n",
      "#\n",
      "\n",
      "# Comments/Questions? Send to disclosure@dazzlepod.com\n",
      "\n",
      "#\n",
      "\n",
      "!\n",
      "\n",
      "! love you\n",
      "\n",
      "!!\n",
      "\n",
      "!!!\n",
      "\n"
     ]
    }
   ],
   "source": [
    "# open the file and check the first 20 lines\n",
    "fh = open('passwords.txt', 'r+')\n",
    "for line in fh.readlines()[:20]:\n",
    "    print line  "
   ]
  },
  {
   "cell_type": "code",
   "execution_count": 108,
   "metadata": {
    "collapsed": false
   },
   "outputs": [],
   "source": [
    "# NOTE, read_csv and read_table do not work\n",
    "fh = open('passwords.txt', 'r+')\n",
    "ps = []\n",
    "for line in fh.readlines()[16:]:\n",
    "    ps.append(line.strip())    "
   ]
  },
  {
   "cell_type": "code",
   "execution_count": 66,
   "metadata": {
    "collapsed": false
   },
   "outputs": [
    {
     "name": "stdout",
     "output_type": "stream",
     "text": [
      "2151220\n"
     ]
    }
   ],
   "source": [
    "print len(ps)"
   ]
  },
  {
   "cell_type": "code",
   "execution_count": 67,
   "metadata": {
    "collapsed": false
   },
   "outputs": [],
   "source": [
    "ps = pd.Series(ps)"
   ]
  },
  {
   "cell_type": "code",
   "execution_count": 68,
   "metadata": {
    "collapsed": false
   },
   "outputs": [],
   "source": [
    "# to get help pd.read_csv?\n",
    "passwords = pd.DataFrame(ps, columns=['password'])  "
   ]
  },
  {
   "cell_type": "markdown",
   "metadata": {},
   "source": [
    "# Step 3. Explore the Data"
   ]
  },
  {
   "cell_type": "code",
   "execution_count": 69,
   "metadata": {
    "collapsed": false
   },
   "outputs": [
    {
     "data": {
      "text/html": [
       "<div>\n",
       "<table border=\"1\" class=\"dataframe\">\n",
       "  <thead>\n",
       "    <tr style=\"text-align: right;\">\n",
       "      <th></th>\n",
       "      <th>password</th>\n",
       "    </tr>\n",
       "  </thead>\n",
       "  <tbody>\n",
       "    <tr>\n",
       "      <th>0</th>\n",
       "      <td>!</td>\n",
       "    </tr>\n",
       "    <tr>\n",
       "      <th>1</th>\n",
       "      <td>! love you</td>\n",
       "    </tr>\n",
       "    <tr>\n",
       "      <th>2</th>\n",
       "      <td>!!</td>\n",
       "    </tr>\n",
       "    <tr>\n",
       "      <th>3</th>\n",
       "      <td>!!!</td>\n",
       "    </tr>\n",
       "    <tr>\n",
       "      <th>4</th>\n",
       "      <td>!!!!!</td>\n",
       "    </tr>\n",
       "  </tbody>\n",
       "</table>\n",
       "</div>"
      ],
      "text/plain": [
       "     password\n",
       "0           !\n",
       "1  ! love you\n",
       "2          !!\n",
       "3         !!!\n",
       "4       !!!!!"
      ]
     },
     "execution_count": 69,
     "metadata": {},
     "output_type": "execute_result"
    }
   ],
   "source": [
    "passwords.head(5)"
   ]
  },
  {
   "cell_type": "code",
   "execution_count": 70,
   "metadata": {
    "collapsed": false
   },
   "outputs": [
    {
     "data": {
      "text/html": [
       "<div>\n",
       "<table border=\"1\" class=\"dataframe\">\n",
       "  <thead>\n",
       "    <tr style=\"text-align: right;\">\n",
       "      <th></th>\n",
       "      <th>password</th>\n",
       "    </tr>\n",
       "  </thead>\n",
       "  <tbody>\n",
       "    <tr>\n",
       "      <th>2151215</th>\n",
       "      <td>~~sstux</td>\n",
       "    </tr>\n",
       "    <tr>\n",
       "      <th>2151216</th>\n",
       "      <td>~~zhou075278</td>\n",
       "    </tr>\n",
       "    <tr>\n",
       "      <th>2151217</th>\n",
       "      <td>~~~~</td>\n",
       "    </tr>\n",
       "    <tr>\n",
       "      <th>2151218</th>\n",
       "      <td>~~~~~</td>\n",
       "    </tr>\n",
       "    <tr>\n",
       "      <th>2151219</th>\n",
       "      <td>~~~~~~</td>\n",
       "    </tr>\n",
       "  </tbody>\n",
       "</table>\n",
       "</div>"
      ],
      "text/plain": [
       "             password\n",
       "2151215       ~~sstux\n",
       "2151216  ~~zhou075278\n",
       "2151217          ~~~~\n",
       "2151218         ~~~~~\n",
       "2151219        ~~~~~~"
      ]
     },
     "execution_count": 70,
     "metadata": {},
     "output_type": "execute_result"
    }
   ],
   "source": [
    "passwords.tail(5)"
   ]
  },
  {
   "cell_type": "code",
   "execution_count": 71,
   "metadata": {
    "collapsed": false
   },
   "outputs": [
    {
     "data": {
      "text/plain": [
       "(2151220, 1)"
      ]
     },
     "execution_count": 71,
     "metadata": {},
     "output_type": "execute_result"
    }
   ],
   "source": [
    "passwords.shape"
   ]
  },
  {
   "cell_type": "code",
   "execution_count": 72,
   "metadata": {
    "collapsed": false
   },
   "outputs": [
    {
     "data": {
      "text/plain": [
       "(2150822L,)"
      ]
     },
     "execution_count": 72,
     "metadata": {},
     "output_type": "execute_result"
    }
   ],
   "source": [
    "# check how many unique passwords\n",
    "uniq_passwords = passwords.password.unique()\n",
    "uniq_passwords.shape"
   ]
  },
  {
   "cell_type": "markdown",
   "metadata": {},
   "source": [
    "### **NOTE**: From the above briefly exploration, I know that I have successfully loaded the data. The total number of records is 2,151,220 which is exactly the number as described. There are 2,150,822 unique records, suggesting only a small subset of passwords has duplication."
   ]
  },
  {
   "cell_type": "markdown",
   "metadata": {},
   "source": [
    "## Step 4. Data Preprocess\n",
    "\n",
    "To gain more inside about the passwords, I star toprepocess the password. To facilitate the preprocessing, I have created a few helper functions to check if the password contains letters, capital letters, numbers as well as symbols."
   ]
  },
  {
   "cell_type": "code",
   "execution_count": 73,
   "metadata": {
    "collapsed": false
   },
   "outputs": [],
   "source": [
    "# define some helper functions\n",
    "\n",
    "import re\n",
    "def hasLetters(x):\n",
    "    return any(re.match('[a-zA-Z]', char) for char in str(x))\n",
    "\n",
    "def hasCapLetters(x):\n",
    "    return any(re.match('[A-Z]', char) for char in str(x))\n",
    "\n",
    "def hasNumbers(x):\n",
    "    return any(char.isdigit() for char in str(x)) \n",
    "\n",
    "def hasSymbols(x):\n",
    "    sym = set('~!@#$%^&*(){}:.[]`;,\"=<>\\\\/_ ?+-|\\'')\n",
    "    return any((c in sym) for c in str(x))"
   ]
  },
  {
   "cell_type": "markdown",
   "metadata": {},
   "source": [
    "Add five columns (hasLetters, hasCapLetters, HasNumbers, hasSymbols, length) into the existing dataframe. As you will find out, the datatype of the first four columns is boolean and the data type of length is integer."
   ]
  },
  {
   "cell_type": "code",
   "execution_count": 74,
   "metadata": {
    "collapsed": false
   },
   "outputs": [],
   "source": [
    "# add more columns\n",
    "\n",
    "passwords['hasLetters'] = passwords.password.map(lambda x: hasLetters(x))\n",
    "passwords['hasCapLetters'] = passwords.password.map(lambda x: hasCapLetters(x))\n",
    "passwords['hasNumbers'] = passwords.password.map(lambda x: hasNumbers(x))\n",
    "passwords['hasSymbols'] = passwords.password.map(lambda x: hasSymbols(x))\n",
    "passwords['length'] = passwords.password.map(lambda x: len(str(x)))"
   ]
  },
  {
   "cell_type": "code",
   "execution_count": 75,
   "metadata": {
    "collapsed": false
   },
   "outputs": [
    {
     "data": {
      "text/html": [
       "<div>\n",
       "<table border=\"1\" class=\"dataframe\">\n",
       "  <thead>\n",
       "    <tr style=\"text-align: right;\">\n",
       "      <th></th>\n",
       "      <th>password</th>\n",
       "      <th>hasLetters</th>\n",
       "      <th>hasCapLetters</th>\n",
       "      <th>hasNumbers</th>\n",
       "      <th>hasSymbols</th>\n",
       "      <th>length</th>\n",
       "    </tr>\n",
       "  </thead>\n",
       "  <tbody>\n",
       "    <tr>\n",
       "      <th>0</th>\n",
       "      <td>!</td>\n",
       "      <td>False</td>\n",
       "      <td>False</td>\n",
       "      <td>False</td>\n",
       "      <td>True</td>\n",
       "      <td>1</td>\n",
       "    </tr>\n",
       "    <tr>\n",
       "      <th>1</th>\n",
       "      <td>! love you</td>\n",
       "      <td>True</td>\n",
       "      <td>False</td>\n",
       "      <td>False</td>\n",
       "      <td>True</td>\n",
       "      <td>10</td>\n",
       "    </tr>\n",
       "    <tr>\n",
       "      <th>2</th>\n",
       "      <td>!!</td>\n",
       "      <td>False</td>\n",
       "      <td>False</td>\n",
       "      <td>False</td>\n",
       "      <td>True</td>\n",
       "      <td>2</td>\n",
       "    </tr>\n",
       "    <tr>\n",
       "      <th>3</th>\n",
       "      <td>!!!</td>\n",
       "      <td>False</td>\n",
       "      <td>False</td>\n",
       "      <td>False</td>\n",
       "      <td>True</td>\n",
       "      <td>3</td>\n",
       "    </tr>\n",
       "    <tr>\n",
       "      <th>4</th>\n",
       "      <td>!!!!!</td>\n",
       "      <td>False</td>\n",
       "      <td>False</td>\n",
       "      <td>False</td>\n",
       "      <td>True</td>\n",
       "      <td>5</td>\n",
       "    </tr>\n",
       "  </tbody>\n",
       "</table>\n",
       "</div>"
      ],
      "text/plain": [
       "     password hasLetters hasCapLetters hasNumbers hasSymbols  length\n",
       "0           !      False         False      False       True       1\n",
       "1  ! love you       True         False      False       True      10\n",
       "2          !!      False         False      False       True       2\n",
       "3         !!!      False         False      False       True       3\n",
       "4       !!!!!      False         False      False       True       5"
      ]
     },
     "execution_count": 75,
     "metadata": {},
     "output_type": "execute_result"
    }
   ],
   "source": [
    "# check how the data look now\n",
    "\n",
    "passwords.head(5)"
   ]
  },
  {
   "cell_type": "markdown",
   "metadata": {},
   "source": [
    "# Step 5. Analyze the Data\n",
    "\n",
    "## 5.1. Analysis of the password length "
   ]
  },
  {
   "cell_type": "code",
   "execution_count": 77,
   "metadata": {
    "collapsed": false
   },
   "outputs": [
    {
     "name": "stdout",
     "output_type": "stream",
     "text": [
      "The minimal password length is: 1\n"
     ]
    }
   ],
   "source": [
    "# check minimal length\n",
    "\n",
    "print \"The minimal password length is: {}\".format(passwords['length'].min())"
   ]
  },
  {
   "cell_type": "code",
   "execution_count": 78,
   "metadata": {
    "collapsed": false
   },
   "outputs": [
    {
     "name": "stdout",
     "output_type": "stream",
     "text": [
      "The maximal password length is: 29\n"
     ]
    }
   ],
   "source": [
    "# check maximal length\n",
    "\n",
    "print \"The maximal password length is: {}\".format(passwords['length'].max())"
   ]
  },
  {
   "cell_type": "code",
   "execution_count": 79,
   "metadata": {
    "collapsed": false
   },
   "outputs": [
    {
     "name": "stdout",
     "output_type": "stream",
     "text": [
      "The average length of password is: 8.37272524428\n",
      "The standard deviation of average password length is: 1.9953977392\n"
     ]
    }
   ],
   "source": [
    "# check the average length of password\n",
    "\n",
    "print \"The average length of password is: {}\".format(passwords['length'].mean())\n",
    "print \"The standard deviation of average password length is: {}\".format(passwords['length'].std())"
   ]
  },
  {
   "cell_type": "code",
   "execution_count": 80,
   "metadata": {
    "collapsed": false
   },
   "outputs": [
    {
     "data": {
      "image/png": "iVBORw0KGgoAAAANSUhEUgAAAWUAAAEMCAYAAAAcfqcpAAAABHNCSVQICAgIfAhkiAAAAAlwSFlz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\noBBRBihElAEKEWWAQkQZoBBRBijk/wH2aPdEkA7vogAAAABJRU5ErkJggg==\n",
      "text/plain": [
<<<<<<< HEAD
       "<matplotlib.axes._subplots.AxesSubplot at 0x12c7c780>"
      ]
     },
     "execution_count": 15,
     "metadata": {},
     "output_type": "execute_result"
    },
    {
     "data": {
      "image/png": "iVBORw0KGgoAAAANSUhEUgAAAWUAAAEMCAYAAAAcfqcpAAAABHNCSVQICAgIfAhkiAAAAAlwSFlz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\n0AAAAABJRU5ErkJggg==\n",
      "text/plain": [
       "<matplotlib.figure.Figure at 0x1442eb38>"
=======
       "<matplotlib.figure.Figure at 0x3cf2c7f0>"
>>>>>>> 607401c72ed9fc22aeb3225bc29f1a5ba39a0572
      ]
     },
     "metadata": {},
     "output_type": "display_data"
    }
   ],
   "source": [
    "# check the central tendency \n",
    "\n",
    "sns.boxplot(passwords.length)\n",
    "plt.show()"
   ]
  },
  {
   "cell_type": "code",
   "execution_count": 81,
   "metadata": {
    "collapsed": false
   },
   "outputs": [
    {
     "data": {
      "image/png": "iVBORw0KGgoAAAANSUhEUgAAAu0AAAFMCAYAAAB/FoKxAAAABHNCSVQICAgIfAhkiAAAAAlwSFlz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\nXZIkSaq4/w8VEKmc3SCaUgAAAABJRU5ErkJggg==\n",
      "text/plain": [
<<<<<<< HEAD
       "<matplotlib.figure.Figure at 0x9424e10>"
=======
       "<matplotlib.figure.Figure at 0x49b1f710>"
>>>>>>> 607401c72ed9fc22aeb3225bc29f1a5ba39a0572
      ]
     },
     "metadata": {},
     "output_type": "display_data"
    }
   ],
   "source": [
    "# check the length distribution\n",
    "\n",
    "fig = plt.figure(figsize=(12,5)) \n",
    "plt.hist(passwords.length, bins=29)\n",
    "\n",
    "plt.ylabel('Frequency', fontsize = 14)\n",
    "plt.xlabel('Length', fontsize=14)\n",
    "\n",
    "plt.show()"
   ]
  },
  {
   "cell_type": "markdown",
   "metadata": {},
   "source": [
    "**NOTE**: After analyzing the password length, I know that the average length is about 8. The majority of passwords have length from 6 to 10. "
   ]
  },
  {
   "cell_type": "markdown",
   "metadata": {},
   "source": [
    "## 5.2. Analysis the basic composition of passwords"
   ]
  },
  {
   "cell_type": "code",
   "execution_count": 82,
   "metadata": {
    "collapsed": false
   },
   "outputs": [
    {
     "name": "stdout",
     "output_type": "stream",
     "text": [
      "The percentage of password has number is: 72.82%\n"
     ]
    }
   ],
   "source": [
    "# check what percent password has number\n",
    "\n",
    "total_rec = passwords.shape[0]\n",
    "pct_number = passwords[passwords['hasNumbers']==True].shape[0] / float(total_rec) * 100\n",
    "print \"The percentage of password has number is: {:.2f}%\".format(pct_number)"
   ]
  },
  {
   "cell_type": "code",
   "execution_count": 83,
   "metadata": {
    "collapsed": false
   },
   "outputs": [
    {
     "name": "stdout",
     "output_type": "stream",
     "text": [
      "The percentage of password has letter is: 76.45%\n"
     ]
    }
   ],
   "source": [
    "# check what percent password has letter\n",
    "\n",
    "pct_letter = passwords[passwords['hasLetters']==True].shape[0] / float(total_rec) * 100\n",
    "print \"The percentage of password has letter is: {:.2f}%\".format(pct_letter)"
   ]
  },
  {
   "cell_type": "code",
   "execution_count": 84,
   "metadata": {
    "collapsed": false
   },
   "outputs": [
    {
     "name": "stdout",
     "output_type": "stream",
     "text": [
      "The percentage of password has capital letter is: 9.53%\n"
     ]
    }
   ],
   "source": [
    "# check what percent password has capital letter\n",
    "\n",
    "pct_capletter = passwords[passwords['hasCapLetters']==True].shape[0] / float(total_rec) * 100\n",
    "print \"The percentage of password has capital letter is: {:.2f}%\".format(pct_capletter)"
   ]
  },
  {
   "cell_type": "code",
   "execution_count": 85,
   "metadata": {
    "collapsed": false
   },
   "outputs": [
    {
     "name": "stdout",
     "output_type": "stream",
     "text": [
      "The percentage of password has symbol is: 3.10%\n"
     ]
    }
   ],
   "source": [
    "# check what percent password has symbol\n",
    "\n",
    "pct_symbol = passwords[passwords['hasSymbols']==True].shape[0] / float(total_rec) * 100\n",
    "print \"The percentage of password has symbol is: {:.2f}%\".format(pct_symbol)"
   ]
  },
  {
   "cell_type": "code",
   "execution_count": 86,
   "metadata": {
    "collapsed": false
   },
   "outputs": [
    {
     "name": "stdout",
     "output_type": "stream",
     "text": [
      "The percentage of password has number only is: 23.22%\n"
     ]
    }
   ],
   "source": [
    "# check what percent password has number only\n",
    "\n",
    "pct_numonly = passwords[(passwords['hasLetters']==False) & (passwords['hasSymbols']==False)].shape[0] / float(total_rec) * 100\n",
    "print \"The percentage of password has number only is: {:.2f}%\".format(pct_numonly)"
   ]
  },
  {
   "cell_type": "code",
   "execution_count": 87,
   "metadata": {
    "collapsed": false
   },
   "outputs": [
    {
     "name": "stdout",
     "output_type": "stream",
     "text": [
      "The percentage of password has letter only is: 26.14%\n"
     ]
    }
   ],
   "source": [
    "# check what percent password has letter only\n",
    "\n",
    "pct_letonly = passwords[(passwords['hasNumbers']==False) & (passwords['hasSymbols']==False)].shape[0] / float(total_rec) * 100\n",
    "print \"The percentage of password has letter only is: {:.2f}%\".format(pct_letonly)"
   ]
  },
  {
   "cell_type": "code",
   "execution_count": 88,
   "metadata": {
    "collapsed": false
   },
   "outputs": [
    {
     "name": "stdout",
     "output_type": "stream",
     "text": [
      "The percentage of password has symbol only is: 0.02%\n"
     ]
    }
   ],
   "source": [
    "# check what percent password has symbol only\n",
    "\n",
    "pct_symonly = passwords[(passwords['hasNumbers']==False) & (passwords['hasLetters']==False)].shape[0] / float(total_rec) * 100\n",
    "print \"The percentage of password has symbol only is: {:.2f}%\".format(pct_symonly)"
   ]
  },
  {
   "cell_type": "code",
   "execution_count": 89,
   "metadata": {
    "collapsed": false
   },
   "outputs": [
    {
     "name": "stdout",
     "output_type": "stream",
     "text": [
      "The percentage of password has all three components is: 1.76% \n"
     ]
    }
   ],
   "source": [
    "pct_all = passwords[(passwords['hasLetters']==True) & (passwords['hasSymbols']==True)& (passwords['hasNumbers']==True)] \\\n",
    "          .shape[0] / float(total_rec) * 100\n",
    "print \"The percentage of password has all three components is: {:.2f}% \".format(pct_all)"
   ]
  },
  {
   "cell_type": "code",
<<<<<<< HEAD
   "execution_count": 25,
=======
   "execution_count": 90,
>>>>>>> 607401c72ed9fc22aeb3225bc29f1a5ba39a0572
   "metadata": {
    "collapsed": false
   },
   "outputs": [
    {
     "data": {
      "image/png": "iVBORw0KGgoAAAANSUhEUgAAAyAAAAHgCAYAAABdBwn1AAAABHNCSVQICAgIfAhkiAAAAAlwSFlz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\nAABkI0AAAIBsBAgAAJCNAAEAALL5DAW/oCk+TfJtAAAAAElFTkSuQmCC\n",
      "text/plain": [
<<<<<<< HEAD
       "<matplotlib.figure.Figure at 0x1d2baba8>"
=======
       "<matplotlib.figure.Figure at 0x25ea4e80>"
>>>>>>> 607401c72ed9fc22aeb3225bc29f1a5ba39a0572
      ]
     },
     "metadata": {},
     "output_type": "display_data"
    }
   ],
   "source": [
    "temp1 = passwords['hasNumbers'].value_counts(ascending=True, normalize=True)*100\n",
    "temp2 = passwords['hasLetters'].value_counts(ascending=True, normalize=True)*100\n",
    "temp3 = passwords['hasCapLetters'].value_counts(ascending=False, normalize=True)*100\n",
    "temp4 = passwords['hasSymbols'].value_counts(ascending=False, normalize=True)*100\n",
    "\n",
    "fig = plt.figure(figsize=(14,7))\n",
    "fig.suptitle('Composition of Password', y=1.05,fontsize=18, fontweight='bold')\n",
    "\n",
    "labels = ('No', 'Yes')\n",
    "colors = ['yellowgreen', 'skyblue']\n",
    "explode = (0, 0.1)\n",
    "\n",
    "ax1 = fig.add_subplot(241)\n",
    "ax1.set_title(\"Has Numbers\" , fontsize=14)\n",
    "plt.pie(temp1,explode=explode,autopct='%1.1f%%', colors=colors, labels = labels, shadow=True, startangle=15,\\\n",
    "        radius=.9)\n",
    "\n",
    "ax2 = fig.add_subplot(242, sharey=ax1)\n",
    "ax2.set_title(\"Has Letters\" , fontsize=14)\n",
    "plt.pie(temp2,explode=explode,autopct='%1.1f%%', colors=colors, labels = labels, shadow=True, startangle=15,\\\n",
    "        radius=.9)\n",
    "\n",
    "ax3 = fig.add_subplot(243, sharey=ax1)\n",
    "ax3.set_title(\"Has CapLetters\" , fontsize=14)\n",
    "plt.pie(temp3,explode=explode, autopct='%1.1f%%', colors=colors, labels = labels, shadow=True, startangle=15,\\\n",
    "        radius=.9)\n",
    "\n",
    "ax4 = fig.add_subplot(244, sharey=ax1)\n",
    "ax4.set_title(\"Has Symbols\" , fontsize=14)\n",
    "plt.pie(temp4,explode=explode, autopct='%1.1f%%', colors=colors, labels = labels, shadow=True, startangle=15,\\\n",
    "        radius=.9)\n",
    "\n",
    "ax5 = fig.add_subplot(245)\n",
    "ax5.set_title(\"Number Only\" , fontsize=14)\n",
    "plt.pie((pct_numonly, 100 - pct_numonly),autopct='%1.1f%%', explode=explode,colors=colors, labels = ('Yes','No'), shadow=True, \\\n",
    "        startangle=15, radius=.9)\n",
    "\n",
    "ax6 = fig.add_subplot(246, sharey=ax5)\n",
    "ax6.set_title(\"Letter Only\" , fontsize=14)\n",
    "plt.pie((pct_letonly, 100 - pct_letonly),explode=explode,autopct='%1.1f%%', colors=colors, labels = ('Yes','No'), shadow=True, \\\n",
    "        startangle=15, radius=.9)\n",
    "\n",
    "ax7 = fig.add_subplot(247, sharey=ax5)\n",
    "ax7.set_title(\"Symbol Only\" , fontsize=14)\n",
    "plt.pie((pct_symonly, 100 - pct_symonly),explode=explode, autopct='%1.1f%%', colors=colors, labels = ('Yes','No'), shadow=True,\\\n",
    "        startangle=15, radius=.9)\n",
    "\n",
    "ax8 = fig.add_subplot(248, sharey=ax5)\n",
    "ax8.set_title(\"All Three\" , fontsize=14)\n",
    "plt.pie((pct_all, 100 - pct_all),explode=explode, autopct='%1.1f%%', colors=colors, labels = ('Yes','No'), shadow=True,\\\n",
    "        startangle=15,radius=.9)\n",
    "\n",
    "plt.show()"
   ]
  },
  {
   "cell_type": "markdown",
   "metadata": {},
   "source": [
    "**NOTE**: From the above analysis, I know that less than 10% of passwords has capital letters and only about 3% of passwords has special characters (symbols). About half of the passwords consist of only one type of components and 1.7% percent of the password consist of all three components, suggesting that complexity of password is not so good. As you may know that a strong password usually requires at least one capital letter and at least one special characters. This may partitally explain why these passwords were hijacked."
   ]
  },
  {
   "cell_type": "markdown",
   "metadata": {
    "collapsed": true
   },
   "source": [
    "## 5.3. Analysis the detailed composition of each password\n",
    "\n",
    "To analyze the detailed composition of each password, I have created three functions which calculate the composition percentage of letters, numbers and symbols in each password. "
   ]
  },
  {
   "cell_type": "code",
<<<<<<< HEAD
   "execution_count": 26,
=======
   "execution_count": 91,
>>>>>>> 607401c72ed9fc22aeb3225bc29f1a5ba39a0572
   "metadata": {
    "collapsed": false
   },
   "outputs": [],
   "source": [
    "def pct_letter(x):\n",
    "    \n",
    "    l = float(len(str(x)))\n",
    "    p = 0\n",
    "    for char in str(x):\n",
    "        if re.match('[a-zA-Z]', char):\n",
    "            p += 1\n",
    "    return round(p / l * 100,2)   \n",
    "\n",
    "def pct_number(x):\n",
    "    \n",
    "    l = float(len(str(x)))\n",
    "    p = 0\n",
    "    for char in str(x):\n",
    "        if str(char).isdigit():\n",
    "            p += 1\n",
    "    return round(p / l * 100,2)  \n",
    "\n",
    "def pct_symbol(x):\n",
    "    sym = set('~!@#$%^&*(){}:.[]`;,\"=<>\\\\/_ ?+-|\\'')\n",
    "    l = float(len(str(x)))\n",
    "    p = 0\n",
    "    for char in str(x):\n",
    "        if char in sym:\n",
    "            p += 1\n",
    "    return round(p / l * 100,2)  "
   ]
  },
  {
   "cell_type": "markdown",
   "metadata": {},
   "source": [
    "Add three more columns (pctLetters, pctSymbols, pctNumbers) to the dataframe. Each column contains the value of the percentage of corresponding components."
   ]
  },
  {
   "cell_type": "code",
<<<<<<< HEAD
   "execution_count": 27,
=======
   "execution_count": 92,
>>>>>>> 607401c72ed9fc22aeb3225bc29f1a5ba39a0572
   "metadata": {
    "collapsed": false
   },
   "outputs": [],
   "source": [
    "passwords['pctLetters'] = passwords.password.map(lambda x: pct_letter(x))\n",
    "passwords['pctSymbols'] = passwords.password.map(lambda x: pct_symbol(x))\n",
    "passwords['pctNumbers'] = passwords.password.map(lambda x: pct_number(x))"
   ]
  },
  {
   "cell_type": "markdown",
   "metadata": {},
   "source": [
    "Check how does the data look like "
   ]
  },
  {
   "cell_type": "code",
<<<<<<< HEAD
   "execution_count": 28,
=======
   "execution_count": 93,
>>>>>>> 607401c72ed9fc22aeb3225bc29f1a5ba39a0572
   "metadata": {
    "collapsed": false
   },
   "outputs": [
    {
     "data": {
      "text/html": [
       "<div>\n",
       "<table border=\"1\" class=\"dataframe\">\n",
       "  <thead>\n",
       "    <tr style=\"text-align: right;\">\n",
       "      <th></th>\n",
       "      <th>password</th>\n",
       "      <th>hasLetters</th>\n",
       "      <th>hasCapLetters</th>\n",
       "      <th>hasNumbers</th>\n",
       "      <th>hasSymbols</th>\n",
       "      <th>length</th>\n",
       "      <th>pctLetters</th>\n",
       "      <th>pctSymbols</th>\n",
       "      <th>pctNumbers</th>\n",
       "    </tr>\n",
       "  </thead>\n",
       "  <tbody>\n",
       "    <tr>\n",
       "      <th>0</th>\n",
       "      <td>!</td>\n",
       "      <td>False</td>\n",
       "      <td>False</td>\n",
       "      <td>False</td>\n",
       "      <td>True</td>\n",
       "      <td>1</td>\n",
       "      <td>0.0</td>\n",
       "      <td>100.0</td>\n",
       "      <td>0.0</td>\n",
       "    </tr>\n",
       "    <tr>\n",
       "      <th>1</th>\n",
       "      <td>! love you</td>\n",
       "      <td>True</td>\n",
       "      <td>False</td>\n",
       "      <td>False</td>\n",
       "      <td>True</td>\n",
       "      <td>10</td>\n",
       "      <td>70.0</td>\n",
       "      <td>30.0</td>\n",
       "      <td>0.0</td>\n",
       "    </tr>\n",
       "    <tr>\n",
       "      <th>2</th>\n",
       "      <td>!!</td>\n",
       "      <td>False</td>\n",
       "      <td>False</td>\n",
       "      <td>False</td>\n",
       "      <td>True</td>\n",
       "      <td>2</td>\n",
       "      <td>0.0</td>\n",
       "      <td>100.0</td>\n",
       "      <td>0.0</td>\n",
       "    </tr>\n",
       "    <tr>\n",
       "      <th>3</th>\n",
       "      <td>!!!</td>\n",
       "      <td>False</td>\n",
       "      <td>False</td>\n",
       "      <td>False</td>\n",
       "      <td>True</td>\n",
       "      <td>3</td>\n",
       "      <td>0.0</td>\n",
       "      <td>100.0</td>\n",
       "      <td>0.0</td>\n",
       "    </tr>\n",
       "    <tr>\n",
       "      <th>4</th>\n",
       "      <td>!!!!!</td>\n",
       "      <td>False</td>\n",
       "      <td>False</td>\n",
       "      <td>False</td>\n",
       "      <td>True</td>\n",
       "      <td>5</td>\n",
       "      <td>0.0</td>\n",
       "      <td>100.0</td>\n",
       "      <td>0.0</td>\n",
       "    </tr>\n",
       "  </tbody>\n",
       "</table>\n",
       "</div>"
      ],
      "text/plain": [
       "     password hasLetters hasCapLetters hasNumbers hasSymbols  length  \\\n",
       "0           !      False         False      False       True       1   \n",
       "1  ! love you       True         False      False       True      10   \n",
       "2          !!      False         False      False       True       2   \n",
       "3         !!!      False         False      False       True       3   \n",
       "4       !!!!!      False         False      False       True       5   \n",
       "\n",
       "   pctLetters  pctSymbols  pctNumbers  \n",
       "0         0.0       100.0         0.0  \n",
       "1        70.0        30.0         0.0  \n",
       "2         0.0       100.0         0.0  \n",
       "3         0.0       100.0         0.0  \n",
       "4         0.0       100.0         0.0  "
      ]
     },
<<<<<<< HEAD
     "execution_count": 28,
=======
     "execution_count": 93,
>>>>>>> 607401c72ed9fc22aeb3225bc29f1a5ba39a0572
     "metadata": {},
     "output_type": "execute_result"
    }
   ],
   "source": [
    "passwords.head(5)"
   ]
  },
  {
   "cell_type": "code",
<<<<<<< HEAD
   "execution_count": 29,
=======
   "execution_count": 100,
>>>>>>> 607401c72ed9fc22aeb3225bc29f1a5ba39a0572
   "metadata": {
    "collapsed": false
   },
   "outputs": [
    {
     "data": {
      "text/html": [
       "<div>\n",
       "<table border=\"1\" class=\"dataframe\">\n",
       "  <thead>\n",
       "    <tr style=\"text-align: right;\">\n",
       "      <th></th>\n",
       "      <th>password</th>\n",
       "      <th>hasLetters</th>\n",
       "      <th>hasCapLetters</th>\n",
       "      <th>hasNumbers</th>\n",
       "      <th>hasSymbols</th>\n",
       "      <th>length</th>\n",
       "      <th>pctLetters</th>\n",
       "      <th>pctSymbols</th>\n",
       "      <th>pctNumbers</th>\n",
       "    </tr>\n",
       "  </thead>\n",
       "  <tbody>\n",
       "    <tr>\n",
       "      <th>1021</th>\n",
       "      <td>\\r\\n\"!@!?@*\\\\r\\n\"\"\"\"\\r\\n\"132\\r\\n&amp;A!R&amp;(</td>\n",
       "      <td>True</td>\n",
       "      <td>True</td>\n",
       "      <td>True</td>\n",
       "      <td>True</td>\n",
       "      <td>30</td>\n",
       "      <td>6.67</td>\n",
       "      <td>56.67</td>\n",
       "      <td>10.00</td>\n",
       "    </tr>\n",
       "    <tr>\n",
       "      <th>1029</th>\n",
       "      <td>==)!)(=\\r\\n&gt;&lt;script&gt;alert(1)&lt;/script&gt;</td>\n",
       "      <td>True</td>\n",
       "      <td>False</td>\n",
       "      <td>True</td>\n",
       "      <td>True</td>\n",
       "      <td>35</td>\n",
       "      <td>48.57</td>\n",
       "      <td>42.86</td>\n",
       "      <td>2.86</td>\n",
       "    </tr>\n",
       "  </tbody>\n",
       "</table>\n",
       "</div>"
      ],
      "text/plain": [
       "                                    password hasLetters hasCapLetters  \\\n",
       "1021  \\r\\n\"!@!?@*\\\\r\\n\"\"\"\"\\r\\n\"132\\r\\n&A!R&(       True          True   \n",
       "1029   ==)!)(=\\r\\n><script>alert(1)</script>       True         False   \n",
       "\n",
       "     hasNumbers hasSymbols  length  pctLetters  pctSymbols  pctNumbers  \n",
       "1021       True       True      30        6.67       56.67       10.00  \n",
       "1029       True       True      35       48.57       42.86        2.86  "
      ]
     },
     "execution_count": 29,
     "metadata": {},
     "output_type": "execute_result"
    }
   ],
   "source": [
    "# calculate the mean of percentage by length\n",
    "\n",
<<<<<<< HEAD
    "passwords[passwords['length']>=30]"
   ]
  },
  {
   "cell_type": "code",
   "execution_count": 30,
   "metadata": {
    "collapsed": false
   },
   "outputs": [],
   "source": [
    "# filter length equal or more than 30\n",
    "\n",
    "df = passwords[passwords['length']<30]\n",
    "\n",
    "sym_mean = df['pctSymbols'].groupby(df['length']).mean()\n",
    "let_mean = df['pctLetters'].groupby(df['length']).mean()\n",
    "num_mean = df['pctNumbers'].groupby(df['length']).mean()\n",
=======
    "sym_mean = passwords['pctSymbols'].groupby(passwords['length']).mean()\n",
    "let_mean = passwords['pctLetters'].groupby(passwords['length']).mean()\n",
    "num_mean = passwords['pctNumbers'].groupby(passwords['length']).mean()\n",
>>>>>>> 607401c72ed9fc22aeb3225bc29f1a5ba39a0572
    "\n",
    "len_unique = passwords['length'].unique()"
   ]
  },
  {
   "cell_type": "code",
<<<<<<< HEAD
   "execution_count": 31,
=======
   "execution_count": 101,
>>>>>>> 607401c72ed9fc22aeb3225bc29f1a5ba39a0572
   "metadata": {
    "collapsed": false
   },
   "outputs": [
    {
     "data": {
<<<<<<< HEAD
      "image/png": "iVBORw0KGgoAAAANSUhEUgAAA7cAAAGFCAYAAAAmSQSMAAAABHNCSVQICAgIfAhkiAAAAAlwSFlz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\nkSbvH5iajjahovuBAAAAAElFTkSuQmCC\n",
      "text/plain": [
       "<matplotlib.figure.Figure at 0x1c651358>"
=======
      "image/png": "iVBORw0KGgoAAAANSUhEUgAAA7cAAAGFCAYAAAAmSQSMAAAABHNCSVQICAgIfAhkiAAAAAlwSFlz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\nhuwAAAAASUVORK5CYII=\n",
      "text/plain": [
       "<matplotlib.figure.Figure at 0x26271860>"
>>>>>>> 607401c72ed9fc22aeb3225bc29f1a5ba39a0572
      ]
     },
     "metadata": {},
     "output_type": "display_data"
    }
   ],
   "source": [
    "fig, ax = plt.subplots(1, figsize=(16,6))\n",
    "\n",
    "bar_width = .8\n",
    "\n",
    "bar_1 = [ i + 1 for i in range(len(len_unique))]\n",
    "\n",
    "tick_pos = [i + (bar_width/2) for i in bar_1]\n",
    "\n",
    "ax.bar(bar_1,num_mean, bar_width, color = 'skyblue', label='Numbers') # add error bar - yerr=num_std)\n",
    "ax.bar(bar_1,let_mean, bar_width, bottom=num_mean,  color = 'yellowgreen', label='Letters') \n",
    "ax.bar(bar_1,sym_mean, bar_width, bottom=[i+j for i,j in zip(num_mean,let_mean)], color = 'c', label='Symbols') \n",
    "\n",
    "# set the x ticks with names\n",
    "plt.xticks(tick_pos, len_unique)\n",
    "\n",
    "# Set the label and legends\n",
    "ax.set_ylabel(\"Total Average Percent\", fontsize = 16)\n",
    "ax.set_xlabel(\"Password Length\", fontsize = 16)\n",
    "plt.legend(loc='upper right', prop={'size':12})\n",
    "\n",
    "# Set a buffer around the edge\n",
    "plt.xlim([min(tick_pos)-bar_width, max(tick_pos)+bar_width])\n",
    "\n",
    "plt.show()"
   ]
  },
  {
   "cell_type": "markdown",
   "metadata": {},
   "source": [
    "**NOTE**: For this above figure, we can see that password either short or long has relative high percentage of symbol characters. The password with length ranging from 5 to 12 has very low percent of special symbol character. As we have see from previous analysis, the passwords with length 6 to 10 are dominate in this dataset. This result may partially explain why these passwords got hijacked."
   ]
  },
  {
   "cell_type": "code",
   "execution_count": null,
   "metadata": {
    "collapsed": true
   },
   "outputs": [],
   "source": []
  },
  {
   "cell_type": "markdown",
   "metadata": {},
   "source": [
    "# Step 6. Classification"
   ]
  },
  {
   "cell_type": "markdown",
   "metadata": {},
   "source": [
    "## 6.1. Calculate the score\n",
    "\n",
    "To mathmatically rate the password, the rules for calculating the score are applied with modifications according to the rules from [here](http://www.passwordmeter.com/):\n",
    "\n",
    "**Additions:**\n",
    "\n",
    "- Number of Characters: len * 4\n",
    "- Uppercase of Letters: n * 3\n",
    "- Lowercase of Letters: n * 3\n",
    "- Numbers: n * 2.5\n",
    "- Symbols: n * 4\n",
    "- Any combination of two: len\n",
    "- Any combination of three: 1.5 * len\n",
    "- All four combination: 2 * len\n",
    "\n",
    "**Deductions:**\n",
    "\n",
    "- Letters Only: - len\n",
    "- Numbers Only: - len\n",
    "- Symbols Only: - len\n",
    "- Repeat: - n"
   ]
  },
  {
   "cell_type": "code",
<<<<<<< HEAD
   "execution_count": 32,
=======
   "execution_count": 102,
>>>>>>> 607401c72ed9fc22aeb3225bc29f1a5ba39a0572
   "metadata": {
    "collapsed": false
   },
   "outputs": [],
   "source": [
    "def scores(string):\n",
    "    \n",
    "    import re\n",
    "    \n",
    "    string = str(string)\n",
    "    l = len(string)\n",
    "    score = 4 * l\n",
    "    \n",
    "    # check unique characters\n",
    "    uni_l = len(set(list(string)))\n",
    "    score = score - (l - uni_l)\n",
    "    \n",
    "    if all(re.match('[a-z]', char) for char in string):\n",
    "        score = score - l\n",
    "    if all(char.isdigit() for char in string):\n",
    "        score = score - l\n",
    "    if all((c in '~!@#$%^&*(){}:.[]`;,\"=<>\\\\/_ ?+-|\\'') for c in string):\n",
    "        score = score - l\n",
    "    if all(re.match('[A-Z]', char) for char in string):\n",
    "        score = score - l\n",
    " \n",
    "    a = any(re.match('[a-z]', char) for char in string)\n",
    "    b = any(char.isdigit() for char in string)\n",
    "    c = any((c in '~!@#$%^&*(){}:.[]`;,\"=<>\\\\/_ ?+-|\\'') for c in string)\n",
    "    d = any(re.match('[A-Z]', char) for char in string)\n",
    "\n",
    "    if (a and b) or (a and c) or (a and d) or (b and c) or (b and d) or (c and d):\n",
    "        score = score + l\n",
    "    elif (a and b and c) or (a and d and d) or (b and c and d):\n",
    "        score = score + 1.5 * l        \n",
    "    elif (a and b and c and d):\n",
    "        score = score + 2 * l   \n",
    "   \n",
    "    num_num = 0\n",
    "    num_let = 0\n",
    "    num_sym = 0\n",
    "    for char in string:\n",
    "        if char.isdigit():\n",
    "            num_num += 1\n",
    "        elif re.match('[a-zA-Z]', char):\n",
    "            num_let += 1\n",
    "        elif char in set('~!@#$%^&*(){}:.[]`;,\"=<>\\\\/_ ?+-|\\''):\n",
    "            num_sym += 1\n",
    "    score = score + num_let * 3 + num_num * 2.5 + num_sym * 4\n",
    "    return score"
   ]
  },
  {
   "cell_type": "code",
<<<<<<< HEAD
   "execution_count": 33,
=======
   "execution_count": 103,
>>>>>>> 607401c72ed9fc22aeb3225bc29f1a5ba39a0572
   "metadata": {
    "collapsed": false
   },
   "outputs": [
    {
     "data": {
      "text/html": [
       "<div>\n",
       "<table border=\"1\" class=\"dataframe\">\n",
       "  <thead>\n",
       "    <tr style=\"text-align: right;\">\n",
       "      <th></th>\n",
       "      <th>password</th>\n",
       "      <th>hasLetters</th>\n",
       "      <th>hasCapLetters</th>\n",
       "      <th>hasNumbers</th>\n",
       "      <th>hasSymbols</th>\n",
       "      <th>length</th>\n",
       "      <th>pctLetters</th>\n",
       "      <th>pctSymbols</th>\n",
       "      <th>pctNumbers</th>\n",
       "      <th>score</th>\n",
       "    </tr>\n",
       "  </thead>\n",
       "  <tbody>\n",
       "    <tr>\n",
       "      <th>0</th>\n",
       "      <td>!</td>\n",
       "      <td>False</td>\n",
       "      <td>False</td>\n",
       "      <td>False</td>\n",
       "      <td>True</td>\n",
       "      <td>1</td>\n",
       "      <td>0.0</td>\n",
       "      <td>100.0</td>\n",
       "      <td>0.0</td>\n",
       "      <td>7.0</td>\n",
       "    </tr>\n",
       "    <tr>\n",
       "      <th>1</th>\n",
       "      <td>! love you</td>\n",
       "      <td>True</td>\n",
       "      <td>False</td>\n",
       "      <td>False</td>\n",
       "      <td>True</td>\n",
       "      <td>10</td>\n",
       "      <td>70.0</td>\n",
       "      <td>30.0</td>\n",
       "      <td>0.0</td>\n",
       "      <td>81.0</td>\n",
       "    </tr>\n",
       "    <tr>\n",
       "      <th>2</th>\n",
       "      <td>!!</td>\n",
       "      <td>False</td>\n",
       "      <td>False</td>\n",
       "      <td>False</td>\n",
       "      <td>True</td>\n",
       "      <td>2</td>\n",
       "      <td>0.0</td>\n",
       "      <td>100.0</td>\n",
       "      <td>0.0</td>\n",
       "      <td>13.0</td>\n",
       "    </tr>\n",
       "  </tbody>\n",
       "</table>\n",
       "</div>"
      ],
      "text/plain": [
       "     password hasLetters hasCapLetters hasNumbers hasSymbols  length  \\\n",
       "0           !      False         False      False       True       1   \n",
       "1  ! love you       True         False      False       True      10   \n",
       "2          !!      False         False      False       True       2   \n",
       "\n",
       "   pctLetters  pctSymbols  pctNumbers  score  \n",
       "0         0.0       100.0         0.0    7.0  \n",
       "1        70.0        30.0         0.0   81.0  \n",
       "2         0.0       100.0         0.0   13.0  "
      ]
     },
<<<<<<< HEAD
     "execution_count": 33,
=======
     "execution_count": 103,
>>>>>>> 607401c72ed9fc22aeb3225bc29f1a5ba39a0572
     "metadata": {},
     "output_type": "execute_result"
    }
   ],
   "source": [
    "ps = passwords  #.sample(10000, random_state=100)  #passwords.drop(['label'], axis=1, inplace=True)\n",
    "ps['score'] = ps['password'].map(lambda x: scores(x))\n",
    "\n",
    "ps.head(3)"
   ]
  },
  {
   "cell_type": "markdown",
   "metadata": {
    "collapsed": false
   },
   "source": [
    "## 6.2. Classification\n",
    "\n",
    "According to the calculated score, passwords were classifiered into five groups (very week, weak, good, strong and very strong)"
   ]
  },
  {
   "cell_type": "code",
<<<<<<< HEAD
   "execution_count": 34,
=======
   "execution_count": 104,
>>>>>>> 607401c72ed9fc22aeb3225bc29f1a5ba39a0572
   "metadata": {
    "collapsed": false
   },
   "outputs": [],
   "source": [
    "def classes(x):\n",
    "\n",
    "    if x < 40:\n",
    "        return 'Very Weak'\n",
    "    elif x >= 40 and x < 60:\n",
    "        return 'Weak'\n",
    "    elif x >= 60 and x < 80:\n",
    "        return 'Good'\n",
    "    elif x >= 80 and x < 90:\n",
    "        return 'Strong'\n",
    "    else:\n",
    "        return 'Very Strong'"
   ]
  },
  {
   "cell_type": "code",
<<<<<<< HEAD
   "execution_count": 35,
=======
   "execution_count": 105,
>>>>>>> 607401c72ed9fc22aeb3225bc29f1a5ba39a0572
   "metadata": {
    "collapsed": false
   },
   "outputs": [],
   "source": [
    "ps['label'] = ps['score'].map(lambda x: classes(x))"
   ]
  },
  {
   "cell_type": "code",
<<<<<<< HEAD
   "execution_count": 36,
=======
   "execution_count": 106,
>>>>>>> 607401c72ed9fc22aeb3225bc29f1a5ba39a0572
   "metadata": {
    "collapsed": false
   },
   "outputs": [
    {
     "data": {
      "text/html": [
       "<div>\n",
       "<table border=\"1\" class=\"dataframe\">\n",
       "  <thead>\n",
       "    <tr style=\"text-align: right;\">\n",
       "      <th></th>\n",
       "      <th>password</th>\n",
       "      <th>hasLetters</th>\n",
       "      <th>hasCapLetters</th>\n",
       "      <th>hasNumbers</th>\n",
       "      <th>hasSymbols</th>\n",
       "      <th>length</th>\n",
       "      <th>pctLetters</th>\n",
       "      <th>pctSymbols</th>\n",
       "      <th>pctNumbers</th>\n",
       "      <th>score</th>\n",
       "      <th>label</th>\n",
       "    </tr>\n",
       "  </thead>\n",
       "  <tbody>\n",
       "    <tr>\n",
<<<<<<< HEAD
       "      <th>1702594</th>\n",
       "      <td>patmehul</td>\n",
       "      <td>True</td>\n",
       "      <td>False</td>\n",
       "      <td>False</td>\n",
       "      <td>False</td>\n",
       "      <td>8</td>\n",
       "      <td>100.00</td>\n",
       "      <td>0.00</td>\n",
       "      <td>0.00</td>\n",
       "      <td>48.0</td>\n",
       "      <td>Weak</td>\n",
       "    </tr>\n",
       "    <tr>\n",
       "      <th>1805958</th>\n",
       "      <td>royi3750</td>\n",
       "      <td>True</td>\n",
       "      <td>False</td>\n",
       "      <td>True</td>\n",
       "      <td>False</td>\n",
       "      <td>8</td>\n",
       "      <td>50.00</td>\n",
       "      <td>0.00</td>\n",
       "      <td>50.00</td>\n",
       "      <td>62.0</td>\n",
       "      <td>Good</td>\n",
       "    </tr>\n",
       "    <tr>\n",
       "      <th>403314</th>\n",
       "      <td>41davey99</td>\n",
       "      <td>True</td>\n",
       "      <td>False</td>\n",
       "      <td>True</td>\n",
       "      <td>False</td>\n",
       "      <td>9</td>\n",
       "      <td>55.56</td>\n",
       "      <td>0.00</td>\n",
       "      <td>44.44</td>\n",
       "      <td>69.0</td>\n",
       "      <td>Good</td>\n",
       "    </tr>\n",
       "    <tr>\n",
       "      <th>957723</th>\n",
       "      <td>bear2000</td>\n",
       "      <td>True</td>\n",
       "      <td>False</td>\n",
       "      <td>True</td>\n",
       "      <td>False</td>\n",
       "      <td>8</td>\n",
       "      <td>50.00</td>\n",
       "      <td>0.00</td>\n",
       "      <td>50.00</td>\n",
       "      <td>60.0</td>\n",
       "      <td>Good</td>\n",
       "    </tr>\n",
       "    <tr>\n",
       "      <th>1690</th>\n",
       "      <td>$1964733112012857$</td>\n",
       "      <td>False</td>\n",
       "      <td>False</td>\n",
       "      <td>True</td>\n",
       "      <td>True</td>\n",
       "      <td>18</td>\n",
       "      <td>0.00</td>\n",
       "      <td>11.11</td>\n",
       "      <td>88.89</td>\n",
       "      <td>131.0</td>\n",
       "      <td>Very Strong</td>\n",
       "    </tr>\n",
       "    <tr>\n",
       "      <th>699524</th>\n",
       "      <td>@1234zzzz@</td>\n",
       "      <td>True</td>\n",
       "      <td>False</td>\n",
       "      <td>True</td>\n",
       "      <td>True</td>\n",
       "      <td>10</td>\n",
       "      <td>40.00</td>\n",
       "      <td>20.00</td>\n",
       "      <td>40.00</td>\n",
       "      <td>76.0</td>\n",
       "      <td>Good</td>\n",
       "    </tr>\n",
       "    <tr>\n",
       "      <th>647212</th>\n",
       "      <td>8951146@</td>\n",
       "      <td>False</td>\n",
       "      <td>False</td>\n",
       "      <td>True</td>\n",
       "      <td>True</td>\n",
       "      <td>8</td>\n",
       "      <td>0.00</td>\n",
       "      <td>12.50</td>\n",
       "      <td>87.50</td>\n",
       "      <td>60.5</td>\n",
       "      <td>Good</td>\n",
       "    </tr>\n",
       "    <tr>\n",
       "      <th>1216759</th>\n",
       "      <td>fonanka</td>\n",
       "      <td>True</td>\n",
       "      <td>False</td>\n",
       "      <td>False</td>\n",
       "      <td>False</td>\n",
       "      <td>7</td>\n",
       "      <td>100.00</td>\n",
       "      <td>0.00</td>\n",
       "      <td>0.00</td>\n",
       "      <td>40.0</td>\n",
       "      <td>Weak</td>\n",
       "    </tr>\n",
       "    <tr>\n",
       "      <th>1643955</th>\n",
       "      <td>nel257</td>\n",
=======
       "      <th>607902</th>\n",
       "      <td>83231124</td>\n",
       "      <td>False</td>\n",
       "      <td>False</td>\n",
       "      <td>True</td>\n",
       "      <td>False</td>\n",
       "      <td>8</td>\n",
       "      <td>0.00</td>\n",
       "      <td>0.0</td>\n",
       "      <td>100.00</td>\n",
       "      <td>41.0</td>\n",
       "      <td>Weak</td>\n",
       "    </tr>\n",
       "    <tr>\n",
       "      <th>1353865</th>\n",
       "      <td>ismary</td>\n",
       "      <td>True</td>\n",
       "      <td>False</td>\n",
       "      <td>False</td>\n",
       "      <td>False</td>\n",
       "      <td>6</td>\n",
       "      <td>100.00</td>\n",
       "      <td>0.0</td>\n",
       "      <td>0.00</td>\n",
       "      <td>36.0</td>\n",
       "      <td>Very Weak</td>\n",
       "    </tr>\n",
       "    <tr>\n",
       "      <th>600990</th>\n",
       "      <td>82092100</td>\n",
       "      <td>False</td>\n",
       "      <td>False</td>\n",
       "      <td>True</td>\n",
       "      <td>False</td>\n",
       "      <td>8</td>\n",
       "      <td>0.00</td>\n",
       "      <td>0.0</td>\n",
       "      <td>100.00</td>\n",
       "      <td>41.0</td>\n",
       "      <td>Weak</td>\n",
       "    </tr>\n",
       "    <tr>\n",
       "      <th>755771</th>\n",
       "      <td>Invoice69</td>\n",
       "      <td>True</td>\n",
       "      <td>True</td>\n",
       "      <td>True</td>\n",
       "      <td>False</td>\n",
       "      <td>9</td>\n",
       "      <td>77.78</td>\n",
       "      <td>0.0</td>\n",
       "      <td>22.22</td>\n",
       "      <td>71.0</td>\n",
       "      <td>Good</td>\n",
       "    </tr>\n",
       "    <tr>\n",
       "      <th>457887</th>\n",
       "      <td>5294823</td>\n",
       "      <td>False</td>\n",
       "      <td>False</td>\n",
       "      <td>True</td>\n",
       "      <td>False</td>\n",
       "      <td>7</td>\n",
       "      <td>0.00</td>\n",
       "      <td>0.0</td>\n",
       "      <td>100.00</td>\n",
       "      <td>37.5</td>\n",
       "      <td>Very Weak</td>\n",
       "    </tr>\n",
       "    <tr>\n",
       "      <th>1666176</th>\n",
       "      <td>nt1408</td>\n",
       "      <td>True</td>\n",
       "      <td>False</td>\n",
       "      <td>True</td>\n",
       "      <td>False</td>\n",
       "      <td>6</td>\n",
       "      <td>33.33</td>\n",
       "      <td>0.0</td>\n",
       "      <td>66.67</td>\n",
       "      <td>46.0</td>\n",
       "      <td>Weak</td>\n",
       "    </tr>\n",
       "    <tr>\n",
       "      <th>2150053</th>\n",
       "      <td>zzdxn123456</td>\n",
       "      <td>True</td>\n",
       "      <td>False</td>\n",
       "      <td>True</td>\n",
       "      <td>False</td>\n",
       "      <td>11</td>\n",
       "      <td>45.45</td>\n",
       "      <td>0.0</td>\n",
       "      <td>54.55</td>\n",
       "      <td>84.0</td>\n",
       "      <td>Strong</td>\n",
       "    </tr>\n",
       "    <tr>\n",
       "      <th>1107944</th>\n",
       "      <td>dean2000</td>\n",
>>>>>>> 607401c72ed9fc22aeb3225bc29f1a5ba39a0572
       "      <td>True</td>\n",
       "      <td>False</td>\n",
       "      <td>True</td>\n",
       "      <td>False</td>\n",
<<<<<<< HEAD
       "      <td>6</td>\n",
       "      <td>50.00</td>\n",
       "      <td>0.00</td>\n",
       "      <td>50.00</td>\n",
       "      <td>46.5</td>\n",
       "      <td>Weak</td>\n",
       "    </tr>\n",
       "    <tr>\n",
       "      <th>1664431</th>\n",
       "      <td>nouvelledonne</td>\n",
       "      <td>True</td>\n",
       "      <td>False</td>\n",
       "      <td>False</td>\n",
       "      <td>False</td>\n",
       "      <td>13</td>\n",
       "      <td>100.00</td>\n",
       "      <td>0.00</td>\n",
       "      <td>0.00</td>\n",
       "      <td>72.0</td>\n",
=======
       "      <td>8</td>\n",
       "      <td>50.00</td>\n",
       "      <td>0.0</td>\n",
       "      <td>50.00</td>\n",
       "      <td>60.0</td>\n",
       "      <td>Good</td>\n",
       "    </tr>\n",
       "    <tr>\n",
       "      <th>1922024</th>\n",
       "      <td>tab06330127</td>\n",
       "      <td>True</td>\n",
       "      <td>False</td>\n",
       "      <td>True</td>\n",
       "      <td>False</td>\n",
       "      <td>11</td>\n",
       "      <td>27.27</td>\n",
       "      <td>0.0</td>\n",
       "      <td>72.73</td>\n",
       "      <td>82.0</td>\n",
       "      <td>Strong</td>\n",
       "    </tr>\n",
       "    <tr>\n",
       "      <th>427833</th>\n",
       "      <td>4828058ms</td>\n",
       "      <td>True</td>\n",
       "      <td>False</td>\n",
       "      <td>True</td>\n",
       "      <td>False</td>\n",
       "      <td>9</td>\n",
       "      <td>22.22</td>\n",
       "      <td>0.0</td>\n",
       "      <td>77.78</td>\n",
       "      <td>66.5</td>\n",
>>>>>>> 607401c72ed9fc22aeb3225bc29f1a5ba39a0572
       "      <td>Good</td>\n",
       "    </tr>\n",
       "  </tbody>\n",
       "</table>\n",
       "</div>"
      ],
      "text/plain": [
<<<<<<< HEAD
       "                   password hasLetters hasCapLetters hasNumbers hasSymbols  \\\n",
       "1702594            patmehul       True         False      False      False   \n",
       "1805958            royi3750       True         False       True      False   \n",
       "403314            41davey99       True         False       True      False   \n",
       "957723             bear2000       True         False       True      False   \n",
       "1690     $1964733112012857$      False         False       True       True   \n",
       "699524           @1234zzzz@       True         False       True       True   \n",
       "647212             8951146@      False         False       True       True   \n",
       "1216759             fonanka       True         False      False      False   \n",
       "1643955              nel257       True         False       True      False   \n",
       "1664431       nouvelledonne       True         False      False      False   \n",
       "\n",
       "         length  pctLetters  pctSymbols  pctNumbers  score        label  \n",
       "1702594       8      100.00        0.00        0.00   48.0         Weak  \n",
       "1805958       8       50.00        0.00       50.00   62.0         Good  \n",
       "403314        9       55.56        0.00       44.44   69.0         Good  \n",
       "957723        8       50.00        0.00       50.00   60.0         Good  \n",
       "1690         18        0.00       11.11       88.89  131.0  Very Strong  \n",
       "699524       10       40.00       20.00       40.00   76.0         Good  \n",
       "647212        8        0.00       12.50       87.50   60.5         Good  \n",
       "1216759       7      100.00        0.00        0.00   40.0         Weak  \n",
       "1643955       6       50.00        0.00       50.00   46.5         Weak  \n",
       "1664431      13      100.00        0.00        0.00   72.0         Good  "
      ]
     },
     "execution_count": 36,
=======
       "            password hasLetters hasCapLetters hasNumbers hasSymbols  length  \\\n",
       "607902      83231124      False         False       True      False       8   \n",
       "1353865       ismary       True         False      False      False       6   \n",
       "600990      82092100      False         False       True      False       8   \n",
       "755771     Invoice69       True          True       True      False       9   \n",
       "457887       5294823      False         False       True      False       7   \n",
       "1666176       nt1408       True         False       True      False       6   \n",
       "2150053  zzdxn123456       True         False       True      False      11   \n",
       "1107944     dean2000       True         False       True      False       8   \n",
       "1922024  tab06330127       True         False       True      False      11   \n",
       "427833     4828058ms       True         False       True      False       9   \n",
       "\n",
       "         pctLetters  pctSymbols  pctNumbers  score      label  \n",
       "607902         0.00         0.0      100.00   41.0       Weak  \n",
       "1353865      100.00         0.0        0.00   36.0  Very Weak  \n",
       "600990         0.00         0.0      100.00   41.0       Weak  \n",
       "755771        77.78         0.0       22.22   71.0       Good  \n",
       "457887         0.00         0.0      100.00   37.5  Very Weak  \n",
       "1666176       33.33         0.0       66.67   46.0       Weak  \n",
       "2150053       45.45         0.0       54.55   84.0     Strong  \n",
       "1107944       50.00         0.0       50.00   60.0       Good  \n",
       "1922024       27.27         0.0       72.73   82.0     Strong  \n",
       "427833        22.22         0.0       77.78   66.5       Good  "
      ]
     },
     "execution_count": 106,
>>>>>>> 607401c72ed9fc22aeb3225bc29f1a5ba39a0572
     "metadata": {},
     "output_type": "execute_result"
    }
   ],
   "source": [
    "# sampling the data after adding the label\n",
    "ps.sample(10,  random_state=12)"
   ]
  },
  {
   "cell_type": "markdown",
   "metadata": {},
   "source": [
    "### Compare the above sample labels with labels from http://www.passwordmeter.com/ (meter label)\n",
    "\n",
    "Table 1. Comparison the classifications\n",
    "\n",
    "| Passwords          | Label          | meter label       |\n",
    "|--------------------|----------------|-------------------|\n",
    "|patmehul            | Weak           | Very Weak         |\n",
    "|royi3750            | Good           | Good              |\n",
    "|41davey99           | Good           | Good              |\n",
    "|bear2000            | Good           | Good              |\n",
    "|1964733112012857    | Very Strong    | Good              |\n",
    "|@1234zzzz@          | Good           | Strong            |\n",
    "|8951146@            | Good           | Strong            |\n",
    "|fonanka             | Weak           | Very Weak         |\n",
    "|nel257              | Weak           | Weak              |\n",
    "|nouvelledonne       | Good           | Weak              | \n",
    "\n"
   ]
  },
  {
   "cell_type": "markdown",
   "metadata": {},
   "source": [
    "## 6.3. Plot the data according to label"
   ]
  },
  {
   "cell_type": "code",
<<<<<<< HEAD
   "execution_count": 37,
=======
   "execution_count": 107,
>>>>>>> 607401c72ed9fc22aeb3225bc29f1a5ba39a0572
   "metadata": {
    "collapsed": false
   },
   "outputs": [
    {
     "data": {
      "image/png": "iVBORw0KGgoAAAANSUhEUgAAAn4AAAF9CAYAAACarGVTAAAABHNCSVQICAgIfAhkiAAAAAlwSFlz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\n9Mvwc3T4f7wAAAAASUVORK5CYII=\n",
      "text/plain": [
<<<<<<< HEAD
       "<matplotlib.figure.Figure at 0x1d2ba2b0>"
=======
       "<matplotlib.figure.Figure at 0x26271048>"
>>>>>>> 607401c72ed9fc22aeb3225bc29f1a5ba39a0572
      ]
     },
     "metadata": {},
     "output_type": "display_data"
    }
   ],
   "source": [
    "dt = ps['label'].value_counts()\n",
    "\n",
    "fig = plt.figure(figsize=(10,5))\n",
    "dt.plot(kind='bar')\n",
    "plt.title('Summary of Classification', fontsize=18)\n",
    "plt.ylabel('Frequency', fontsize=14)\n",
    "plt.yticks(fontsize=12)\n",
    "plt.xticks(rotation=45, fontsize=14)\n",
    "plt.show()"
   ]
  },
  {
   "cell_type": "markdown",
   "metadata": {
    "collapsed": true
   },
   "source": [
    "**NOTE**: To mathmatically evaluate the password, I have borrowed the concept from 'http://www.passwordmeter.com/' with modification. It is worth to note that the rules I adapted is quietly arbituary and more complicated rules were modified. Therefore, variations are expected between labels from my algorithm and from passwordmeter website. From the table 1, we can see there are 6 out 10 random sampled labels are matched. Nevertheless, the majority of passwords are categorized into weak or very weak groups and less than 10 percent of the passwords is categorized into strong or very strong groups. "
   ]
  },
  {
   "cell_type": "markdown",
   "metadata": {
    "collapsed": false
   },
   "source": [
    "# Summary\n",
    "\n",
    "I have thoroughly analyzed the passwords dataset. From my analysis, I have found that the majority of the passwords did not follow secure password rules such as having diverse combination of number, letter, capital letter as well as symbols. In particular, passwords with length ranging from 6 to 10 which represent the majority of the dataset are lack of the diversity. The lack of diversity and complexity at least partially explains why these passwords got hijacked and may not represent the real world situation. \n",
    "\n",
    "By partially applying the concept from passwordmeter.com, I was able to classified the passwords into five categories which are very weak, weak, good, strong as well as very strong. As we expected, variations exist between labels from my simple algorithm and from passwordmeter website. It is worth to note that the simple algorithm positively weight diversity and negatively weight repeat and simplicity. Nevertheless, the majority of the passwords are categorized into weak or very weak groups with the simple algorithm, suggesting a secure password should be diversified with combination of letter, number as well as special characters.  "
   ]
  },
  {
   "cell_type": "code",
<<<<<<< HEAD
   "execution_count": 38,
=======
   "execution_count": 109,
>>>>>>> 607401c72ed9fc22aeb3225bc29f1a5ba39a0572
   "metadata": {
    "collapsed": false
   },
   "outputs": [
    {
     "data": {
      "text/html": [
       "<script>\n",
       "code_show=true; \n",
       "function code_toggle() {\n",
       " if (code_show){\n",
       " $('div.input').hide();\n",
       " } else {\n",
       " $('div.input').show();\n",
       " }\n",
       " code_show = !code_show\n",
       "} \n",
       "$( document ).ready(code_toggle);\n",
       "</script>\n",
       "<form action=\"javascript:code_toggle()\"><input type=\"submit\" value=\"Click here to toggle on/off the raw code.\"></form>"
      ],
      "text/plain": [
       "<IPython.core.display.HTML object>"
      ]
     },
<<<<<<< HEAD
     "execution_count": 38,
=======
     "execution_count": 109,
>>>>>>> 607401c72ed9fc22aeb3225bc29f1a5ba39a0572
     "metadata": {},
     "output_type": "execute_result"
    }
   ],
   "source": [
    "from IPython.display import HTML \n",
    "\n",
    "HTML('''<script>\n",
    "code_show=true; \n",
    "function code_toggle() {\n",
    " if (code_show){\n",
    " $('div.input').hide();\n",
    " } else {\n",
    " $('div.input').show();\n",
    " }\n",
    " code_show = !code_show\n",
    "} \n",
    "$( document ).ready(code_toggle);\n",
    "</script>\n",
    "<form action=\"javascript:code_toggle()\"><input type=\"submit\" value=\"Click here to toggle on/off the raw code.\"></form>''')"
   ]
  },
  {
   "cell_type": "markdown",
   "metadata": {
    "collapsed": true
   },
   "source": [
    "The above toggle code was from [here](http://stackoverflow.com/questions/27934885/how-to-hide-code-from-cells-in-ipython-notebook-visualized-with-nbviewer)"
   ]
  },
  {
   "cell_type": "code",
   "execution_count": null,
   "metadata": {
    "collapsed": true
   },
   "outputs": [],
   "source": []
  }
 ],
 "metadata": {
  "kernelspec": {
   "display_name": "Python 2",
   "language": "python",
   "name": "python2"
  },
  "language_info": {
   "codemirror_mode": {
    "name": "ipython",
    "version": 2
   },
   "file_extension": ".py",
   "mimetype": "text/x-python",
   "name": "python",
   "nbconvert_exporter": "python",
   "pygments_lexer": "ipython2",
   "version": "2.7.11"
  }
 },
 "nbformat": 4,
 "nbformat_minor": 0
}
